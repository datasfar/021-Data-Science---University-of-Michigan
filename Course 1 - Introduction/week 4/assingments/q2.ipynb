{
 "cells": [
  {
   "cell_type": "code",
   "execution_count": 22,
   "metadata": {},
   "outputs": [
    {
     "name": "stdout",
     "output_type": "stream",
     "text": [
      "-0.17657160252844614\n"
     ]
    }
   ],
   "source": [
    "import pandas as pd\n",
    "import numpy as np\n",
    "import scipy.stats as stats\n",
    "import re\n",
    "\n",
    "nba_df=pd.read_csv(\"assets/nba.csv\")\n",
    "cities=pd.read_html(\"assets/wikipedia_data.html\")[1]\n",
    "cities=cities.iloc[:-1,[0,3,5,6,7,8]]\n",
    "\n",
    "cities[\"NBA\"] = cities[\"NBA\"].str.replace(r\"\\[.+\\]\", \"\", regex=True)\n",
    "cities[\"NBA\"] = cities[\"NBA\"].replace({\n",
    "    \"Knicks Nets\": \"Knicks,Nets\",\n",
    "    \"Lakers Clippers\": \"Lakers,Clippers\"\n",
    "})\n",
    "cities[\"NBA\"] = cities[\"NBA\"].apply(lambda x: x.split(','))\n",
    "cities = cities.explode(\"NBA\")\n",
    "cities\n",
    "\n",
    "infocities = cities.iloc[:, [0,1,4]].copy()\n",
    "\n",
    "infocities.rename(columns={0: 'Metropolitan area', 1: 'Population'}, inplace=True)\n",
    "infocities.columns = ['Metropolitan area', 'Population', 'NBA']\n",
    "infocities = infocities[infocities['NBA'].str.contains(r'[a-zA-Z]')]\n",
    "infocities[\"NBA\"]\n",
    "\n",
    "info_league = nba_df[nhl_df['year'] == 2018][['team', 'W', 'L']]\n",
    "info_league['team'] = info_league['team'].str.replace('*', '')\n",
    "info_league = info_league[~info_league['team'].str.contains('Division')]\n",
    "info_league['team'] = info_league[\"team\"].str.replace(r\"\\(.+\\)\", \"\", regex=True)\n",
    "info_league\n",
    "\n",
    "teams_shorts = infocities[\"NBA\"].str.strip()\n",
    "teams_complete = info_league[\"team\"].str.strip()\n",
    "\n",
    "final_list = []\n",
    "\n",
    "for short_name in teams_shorts:\n",
    "\n",
    "    idx = teams_complete[teams_complete.str.contains(short_name)].index\n",
    "\n",
    "    if not idx.empty:\n",
    "        index = idx[0]\n",
    "\n",
    "        team_complete_row = info_league.loc[index]\n",
    "\n",
    "        infocities_row = infocities[infocities['NBA'] == short_name].iloc[0]\n",
    "\n",
    "        combined_row = pd.concat([team_complete_row, infocities_row])\n",
    "\n",
    "        final_list.append(combined_row)\n",
    "\n",
    "final_df = pd.DataFrame(final_list)\n",
    "final_df\n",
    "\n",
    "result_df = final_df.copy()\n",
    "\n",
    "result_df['W'] = pd.to_numeric(result_df['W'])\n",
    "result_df['L'] = pd.to_numeric(result_df['L'])\n",
    "\n",
    "result_df['Win-Loss Ratio'] = result_df['W'] / (result_df['W'] + result_df['L'])\n",
    "result_df = result_df.drop([\"team\", \"NBA\"], axis=1)\n",
    "\n",
    "# print(len(result_df.drop_duplicates(subset=[\"Metropolitan area\"]))) # Ya son 28 valores\n",
    "result_df\n",
    "\n",
    "df_unique = result_df.drop_duplicates(subset=['Metropolitan area'])\n",
    "mean_ratio = result_df.groupby('Metropolitan area')['Win-Loss Ratio'].mean().reset_index()\n",
    "mean_ratio\n",
    "\n",
    "population_data = result_df.groupby('Metropolitan area')['Population'].first().reset_index()\n",
    "population_data\n",
    "\n",
    "mean_ratio_with_population = pd.merge(mean_ratio, population_data, on='Metropolitan area', how='left')\n",
    "mean_ratio_with_population\n",
    "\n",
    "mean_ratio_with_population['Population'] = mean_ratio_with_population['Population'].astype(float)\n",
    "\n",
    "population_by_region = mean_ratio_with_population['Population']\n",
    "win_loss_by_region = mean_ratio_with_population['Win-Loss Ratio'] \n",
    "\n",
    "final = stats.pearsonr(population_by_region, win_loss_by_region)[0]\n",
    "\n",
    "assert len(population_by_region) == len(win_loss_by_region), \"Q1: Your lists must be the same length\"\n",
    "assert len(population_by_region) == 28, \"Q1: There should be 28 teams being analysed for NHL\"\n",
    "    \n",
    "print(final)"
   ]
  },
  {
   "cell_type": "code",
   "execution_count": 21,
   "metadata": {},
   "outputs": [
    {
     "name": "stdout",
     "output_type": "stream",
     "text": [
      "-0.17657160252844614\n"
     ]
    }
   ],
   "source": [
    "\n"
   ]
  },
  {
   "cell_type": "code",
   "execution_count": null,
   "metadata": {},
   "outputs": [],
   "source": []
  }
 ],
 "metadata": {
  "kernelspec": {
   "display_name": "Python 3",
   "language": "python",
   "name": "python3"
  },
  "language_info": {
   "codemirror_mode": {
    "name": "ipython",
    "version": 3
   },
   "file_extension": ".py",
   "mimetype": "text/x-python",
   "name": "python",
   "nbconvert_exporter": "python",
   "pygments_lexer": "ipython3",
   "version": "3.12.0"
  }
 },
 "nbformat": 4,
 "nbformat_minor": 2
}
