{
 "cells": [
  {
   "cell_type": "markdown",
   "metadata": {},
   "source": [
    "** Introducción al ejercicio y experiencia de tomar el curso (motivaciones, desafios y conclusiones) **"
   ]
  },
  {
   "cell_type": "code",
   "execution_count": null,
   "metadata": {},
   "outputs": [],
   "source": [
    "import pandas as pd\n",
    "import numpy as np\n",
    "import scipy.stats as stats\n",
    "import re\n",
    "\n",
    "nhl_df=pd.read_csv(\"assets/nhl.csv\")\n",
    "cities=pd.read_html(\"assets/wikipedia_data.html\")[1]\n",
    "cities=cities.iloc[:-1,[0,3,5,6,7,8]]"
   ]
  },
  {
   "cell_type": "code",
   "execution_count": null,
   "metadata": {},
   "outputs": [],
   "source": [
    "nhl_df\n"
   ]
  },
  {
   "cell_type": "markdown",
   "metadata": {},
   "source": [
    "### wikipedia_data.html\n",
    "\n",
    "El archivo wikipedia_data.html contiene una tabla con información sobre regiones metropolitanas y los equipos deportivos asociados a ellas. Este archivo es el \"source of authority\" para determinar la localización de los equipos deportivos, lo que significa que cualquier equipo debe ser mapeado a la región metropolitana específica mencionada en este archivo.\n",
    "\n",
    "#### Contenido de wikipedia_data.html\n",
    "    Regiones Metropolitanas: Estas son áreas urbanas grandes que generalmente abarcan varias ciudades o condados. El nombre de la región metropolitana es la clave para agrupar equipos deportivos.\n",
    "\n",
    "    Equipos Deportivos: La tabla incluye equipos de los \"Big 4\" deportes profesionales en América del Norte: NFL (fútbol americano), MLB (béisbol), NBA (baloncesto) y NHL (hockey sobre hielo).\n",
    "\n",
    "    Población: También incluye estimaciones de la población de estas regiones metropolitanas, que son necesarias para calcular la correlación con los ratios de victorias/derrotas de los equipos deportivos.\n",
    "\n",
    "#### Estructura de la Tabla\n",
    "\n",
    "El DataFrame que se obtiene de wikipedia_data.html normalmente tiene las siguientes columnas:\n",
    "\n",
    "    (Metropolitan area) Nombre de la Región Metropolitana: El nombre de la región, como \"San Francisco Bay Area\".\n",
    "    (Population (2016 est.)[8]) Población (estimación de 2016): La población estimada de la región en el año 2016.\n",
    "    (NFL) Equipos de la NFL: Equipos de fútbol americano asociados con la región.\n",
    "    (MLB) Equipos de la MLB: Equipos de béisbol asociados con la región.\n",
    "    (NBA) Equipos de la NBA: Equipos de baloncesto asociados con la región.\n",
    "    (NHL) Equipos de la NHL: Equipos de hockey sobre hielo asociados con la región."
   ]
  },
  {
   "cell_type": "markdown",
   "metadata": {},
   "source": [
    "## Pregunta 1\n",
    "Para esta pregunta, calcula el ratio de correlación de victorias/derrotas con la población de la ciudad para NHL usando datos de 2018"
   ]
  },
  {
   "cell_type": "code",
   "execution_count": null,
   "metadata": {},
   "outputs": [],
   "source": [
    "# Creamos un nuevo dataframe para la info de las ciudades, poblacion y equipos\n",
    "\n",
    "cities[\"NHL\"] = cities[\"NHL\"].str.replace(r\"\\[.+\\]\", \"\", regex=True)\n",
    "cities[\"NHL\"] = cities[\"NHL\"].replace({\n",
    "    \"Rangers Islanders Devils\": \"Rangers,Islanders,Devils\",\n",
    "    \"Kings Ducks\": \"Kings,Ducks\"\n",
    "})\n",
    "cities[\"NHL\"] = cities[\"NHL\"].apply(lambda x: x.split(','))\n",
    "cities = cities.explode(\"NHL\")\n",
    "\n",
    "infocities = cities.iloc[:, [0,1,5]].copy()\n",
    "\n",
    "infocities.rename(columns={0: 'Metropolitan area', 1: 'Population'}, inplace=True)\n",
    "infocities.columns = ['Metropolitan area', 'Population', 'NHL']\n",
    "infocities = infocities[infocities['NHL'].str.contains(r'[a-zA-Z]')]\n",
    "infocities[\"NHL\"]"
   ]
  },
  {
   "cell_type": "code",
   "execution_count": null,
   "metadata": {},
   "outputs": [],
   "source": [
    "# Creamos un dataframe para la info de los equipos y sus victorias y derrotas\n",
    "info_league = nhl_df[nhl_df['year'] == 2018][['team', 'W', 'L']]\n",
    "info_league['team'] = info_league['team'].str.replace('*', '')\n",
    "info_league = info_league[~info_league['team'].str.contains('Division')]\n",
    "info_league"
   ]
  },
  {
   "cell_type": "code",
   "execution_count": null,
   "metadata": {},
   "outputs": [],
   "source": [
    "teams_shorts = infocities[\"NHL\"].str.strip()\n",
    "teams_complete = info_league[\"team\"].str.strip()\n",
    "\n",
    "final_list = []\n",
    "\n",
    "# Verificar si hay coincidencias parciales\n",
    "for short_name in teams_shorts:\n",
    "# Encontrar el índice donde se encuentra la coincidencia\n",
    "    idx = teams_complete[teams_complete.str.contains(short_name)].index\n",
    "    if not idx.empty:\n",
    "        index = idx[0]\n",
    "        #print(f\"Match found for '{short_name}', corresponding full team name: {teams_complete[index]}\")\n",
    "        \n",
    "        # Acceder a la fila correspondiente en info_league\n",
    "        team_complete_row = info_league.loc[index]\n",
    "\n",
    "        # Acceder a la fila correspondiente en infocities\n",
    "        infocities_row = infocities[infocities['NHL'] == short_name].iloc[0]\n",
    "\n",
    "               # Combinar las filas en una sola con pd.concat()\n",
    "        combined_row = pd.concat([team_complete_row, infocities_row])\n",
    "\n",
    "        # Agregar la fila combinada a la lista\n",
    "        final_list.append(combined_row)\n",
    "\n",
    "        # Imprimir la fila combinada\n",
    "        #print(combined_row)\n",
    "        #print(\"--------------------------------------------------------\")\n",
    "\n",
    "final_df = pd.DataFrame(final_list)\n",
    "final_df\n"
   ]
  },
  {
   "cell_type": "code",
   "execution_count": 98,
   "metadata": {},
   "outputs": [
    {
     "name": "stdout",
     "output_type": "stream",
     "text": [
      "0.012486162921209923\n"
     ]
    }
   ],
   "source": [
    "result_df = final_df.copy()\n",
    "\n",
    "result_df['W'] = pd.to_numeric(result_df['W'])\n",
    "result_df['L'] = pd.to_numeric(result_df['L'])\n",
    "\n",
    "result_df['Win-Loss Ratio'] = result_df['W'] / (result_df['W'] + result_df['L'])\n",
    "result_df = result_df.drop([\"team\", \"NHL\"], axis=1)\n",
    "\n",
    "# print(len(result_df.drop_duplicates(subset=[\"Metropolitan area\"]))) # Ya son 28 valores\n",
    "\n",
    "result_df\n",
    "\n",
    "# Eliminar filas duplicadas en la columna 'Metropolitan area'\n",
    "df_unique = result_df.drop_duplicates(subset=['Metropolitan area'])\n",
    "\n",
    "# Calcular la media del Win-Loss Ratio por cada área metropolitana\n",
    "mean_ratio = result_df.groupby('Metropolitan area')['Win-Loss Ratio'].mean().reset_index()\n",
    "mean_ratio\n",
    "\n",
    "population_data = result_df.groupby('Metropolitan area')['Population'].first().reset_index()\n",
    "population_data\n",
    "\n",
    "mean_ratio_with_population = pd.merge(mean_ratio, population_data, on='Metropolitan area', how='left')\n",
    "mean_ratio_with_population\n",
    "\n",
    "mean_ratio_with_population['Population'] = mean_ratio_with_population['Population'].astype(float)\n",
    "\n",
    "population_by_region = mean_ratio_with_population['Population']\n",
    "win_loss_by_region = mean_ratio_with_population['Win-Loss Ratio'] \n",
    "\n",
    "final = stats.pearsonr(population_by_region, win_loss_by_region)[0]\n",
    "print(final)\n",
    "\n"
   ]
  },
  {
   "cell_type": "code",
   "execution_count": null,
   "metadata": {},
   "outputs": [],
   "source": [
    "population_by_region = mean_ratio_with_population['Population']\n",
    "win_loss_by_region = mean_ratio_with_population['Win-Loss Ratio'] \n",
    "\n",
    "final = stats.pearsonr(population_by_region, win_loss_by_region)[0]\n",
    "print(final)"
   ]
  },
  {
   "cell_type": "markdown",
   "metadata": {},
   "source": [
    "### AHHHSHAGDGAGDA\n"
   ]
  },
  {
   "cell_type": "code",
   "execution_count": null,
   "metadata": {},
   "outputs": [],
   "source": [
    "\n",
    "result_df = final_df\n",
    "result_df['W'] = pd.to_numeric(result_df['W'])\n",
    "result_df['L'] = pd.to_numeric(result_df['L'])\n",
    "\n",
    "# Calcular el ratio de victorias/derrotas\n",
    "result_df['Win_loss_ratio'] = result_df['W'] / (result_df['W'] + result_df['L'])\n",
    "\n",
    "# Calcular la correlación entre el ratio de victorias/derrotas y la población\n",
    "correlation = result_df['Win_loss_ratio'].corr(result_df['Population'])\n",
    "\n",
    "print(f\"El coeficiente de correlación entre el ratio de victorias/derrotas y la población es: {correlation}\")"
   ]
  },
  {
   "cell_type": "code",
   "execution_count": 96,
   "metadata": {},
   "outputs": [
    {
     "name": "stdout",
     "output_type": "stream",
     "text": [
      "<class 'pandas.core.series.Series'>\n",
      "<class 'pandas.core.series.Series'>\n"
     ]
    },
    {
     "name": "stderr",
     "output_type": "stream",
     "text": [
      "/var/folders/bw/_pgpsw6n67z55_fnwxmypghr0000gn/T/ipykernel_62953/83909568.py:27: SettingWithCopyWarning: \n",
      "A value is trying to be set on a copy of a slice from a DataFrame.\n",
      "Try using .loc[row_indexer,col_indexer] = value instead\n",
      "\n",
      "See the caveats in the documentation: https://pandas.pydata.org/pandas-docs/stable/user_guide/indexing.html#returning-a-view-versus-a-copy\n",
      "  population['Metropolitan area']=population['Metropolitan area'].str.strip()\n",
      "/var/folders/bw/_pgpsw6n67z55_fnwxmypghr0000gn/T/ipykernel_62953/83909568.py:28: SettingWithCopyWarning: \n",
      "A value is trying to be set on a copy of a slice from a DataFrame\n",
      "\n",
      "See the caveats in the documentation: https://pandas.pydata.org/pandas-docs/stable/user_guide/indexing.html#returning-a-view-versus-a-copy\n",
      "  population.rename(columns={'Population (2016 est.)[8]':'Population'},inplace=True)\n"
     ]
    },
    {
     "data": {
      "text/plain": [
       "0.012308996455744264"
      ]
     },
     "execution_count": 96,
     "metadata": {},
     "output_type": "execute_result"
    }
   ],
   "source": [
    "import pandas as pd\n",
    "import numpy as np\n",
    "import scipy.stats as stats\n",
    "import re\n",
    "\n",
    "def get_area(team):\n",
    "    #print(team)\n",
    "    #print(nhl_cities.index.values)\n",
    "    for each in list(nhl_cities.index.values):\n",
    "        #print(each)\n",
    "        if team in each:\n",
    "            #print(team)\n",
    "           # print(nhl_cities.at[each, 'Metropolitan area'])\n",
    "            #print(nhl_cities.at[each, 'Metropolitan area'])\n",
    "            return nhl_cities.at[each, 'Metropolitan area']\n",
    "\n",
    "\n",
    "nhl_df=pd.read_csv(\"assets/nhl.csv\")\n",
    "cities=pd.read_html(\"assets/wikipedia_data.html\")[1]\n",
    "#print(nhl_df['team'])\n",
    "#print(cities[['Metropolitan area','NHL']])\n",
    "#print(cities[cities['NHL'].str.contains('Devils')])\n",
    "#print(cities.shape)\n",
    "cities=cities.iloc[:-1,[0,3,5,6,7,8]]\n",
    "\n",
    "population =cities[['Metropolitan area', 'Population (2016 est.)[8]']]\n",
    "population['Metropolitan area']=population['Metropolitan area'].str.strip()\n",
    "population.rename(columns={'Population (2016 est.)[8]':'Population'},inplace=True)\n",
    "population = population.set_index('Metropolitan area')\n",
    "cities['NHL'].replace(r'(.*)\\[.*\\].*|[-—]',r'\\1',regex=True, inplace=True)\n",
    "cities['NHL'].replace('', np.nan, inplace=True)\n",
    "cities.dropna(inplace=True)\n",
    "\n",
    "nhl_cities = cities[['Metropolitan area', 'NHL']].set_index('NHL')\n",
    "\n",
    "#print(nhl_cities)\n",
    "nhl_df= nhl_df[nhl_df['year'] == 2018].drop([0, 9, 18, 26], axis=0).drop(['League','year','RPt%','ROW','PTS%','PTS',\n",
    "                                                                          'GP','OL','GF','GA','SRS','SOS'],axis=1)\n",
    "nhl_df['team'].replace(r'(.*)[\\*].*',r\"\\1\".strip(),regex=True, inplace=True)\n",
    "nhl_df['Area']=nhl_df['team'].str.split(\" \").str[-1:]\n",
    "#print(nhl_df['Area'].str[0])\n",
    "#nhl_df[\"Area\"]= nhl_df[\"Area\"].str[0].str.cat(nhl_df['Area'].str[1], sep =\" \",na_rep =\"\")\n",
    "nhl_df[\"Area\"]= nhl_df[\"Area\"].str[0]\n",
    "nhl_df['Area'] = nhl_df['Area'].apply(lambda x: get_area(x))\n",
    "\n",
    "#print(nhl_df)\n",
    "#print(nhl_df)\n",
    "#nhl_df['W']=pd.to_numeric(nhl_df['W'])\n",
    "#nhl_df['L']=pd.to_numeric(nhl_df['L'])\n",
    "\n",
    "nhl_df[['W','L']] = nhl_df[['W','L']].apply(pd.to_numeric, axis=1)\n",
    "\n",
    "nhl_df=nhl_df.groupby('Area').sum()\n",
    "#print(nhl_df)\n",
    "\n",
    "#nhl_df['Ratio']=nhl_df['W'] / (nhl_df['W']+ nhl_df['L'])\n",
    "#nhl_df=nhl_df.assign(Ratio=lambda x: x['W'] / (x['W'] + x['L']))\n",
    "nhl_df.eval(\"Ratio =W / (W + L)\", inplace=True)\n",
    "\n",
    "#nhl_df.set_index('Area',inplace=True)\n",
    "nhl_df.drop(['W','L'], axis=1,inplace=True)\n",
    "#print(nhl_df)\n",
    "#print(population['Population'])\n",
    "#print(nhl_df['Ratio'])\n",
    "out_df = pd.merge(nhl_df, population, how=\"inner\", left_index=True, right_index=True)\n",
    "out_df['Population']=pd.to_numeric(out_df['Population'])\n",
    "#print(out_df)\n",
    "#print(out_df['Ratio'])\n",
    "\n",
    "def nhl_correlation(): \n",
    "    # YOUR CODE HERE\n",
    "    \n",
    "    #raise NotImplementedError()\n",
    "    \n",
    "    population_by_region = out_df['Population'] # pass in metropolitan area population from cities\n",
    "    win_loss_by_region =out_df['Ratio']  # pass in win/loss ratio from nhl_df in the same order as cities[\"Metropolitan area\"]\n",
    "\n",
    "    assert len(population_by_region) == len(win_loss_by_region), \"Q1: Your lists must be the same length\"\n",
    "    assert len(population_by_region) == 28, \"Q1: There should be 28 teams being analysed for NHL\"\n",
    "    #Oakland Raiders\n",
    "    return stats.pearsonr(population_by_region, win_loss_by_region)[0]\n",
    "\n",
    "nhl_correlation()"
   ]
  },
  {
   "cell_type": "code",
   "execution_count": null,
   "metadata": {},
   "outputs": [],
   "source": [
    "out_df"
   ]
  }
 ],
 "metadata": {
  "kernelspec": {
   "display_name": "Python 3",
   "language": "python",
   "name": "python3"
  },
  "language_info": {
   "codemirror_mode": {
    "name": "ipython",
    "version": 3
   },
   "file_extension": ".py",
   "mimetype": "text/x-python",
   "name": "python",
   "nbconvert_exporter": "python",
   "pygments_lexer": "ipython3",
   "version": "3.12.0"
  }
 },
 "nbformat": 4,
 "nbformat_minor": 2
}
