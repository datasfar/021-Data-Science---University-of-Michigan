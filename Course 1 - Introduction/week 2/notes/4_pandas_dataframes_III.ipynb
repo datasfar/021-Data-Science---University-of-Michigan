{
 "cells": [
  {
   "cell_type": "markdown",
   "metadata": {},
   "source": [
    "#### Consultas a un dataframe\n",
    "\n",
    "El primer paso para entender las consultas de dataframe, es entender el proceso de enmascaramiento booleano. Este es la base de la eficiencia tanto en Pandas como en Numpy. Y es analogo al enmascaramiento de bits que se utiliza en otras areas de la informática.\n",
    "\n",
    "El enmascaramiento booleano en pandas es una técnica que permite filtrar datos de un DataFrame o Serie utilizando condiciones lógicas. Se basa en la creación de una Serie de valores booleanos (True o False), que se utiliza para seleccionar únicamente las filas o columnas que cumplen con una condición específica."
   ]
  },
  {
   "cell_type": "code",
   "execution_count": null,
   "metadata": {},
   "outputs": [],
   "source": [
    "import pandas as pd\n",
    "\n",
    "dataframe = pd. read_csv(\"../datasets/Admission_Predict.csv\", index_col=0)\n",
    "dataframe.columns = [x.lower().strip() for x in dataframe.columns]\n",
    "dataframe.head()"
   ]
  },
  {
   "cell_type": "code",
   "execution_count": null,
   "metadata": {},
   "outputs": [],
   "source": [
    "# las mascaras booleanas se crean aplicando operadores directamente al dataframe\n",
    "\n",
    "# por ejemplo en nuestra dataframe podriamos mostrar solamente los estudiantes con mas de un \n",
    "# 0.7 de  probabilidad de ser admitidos\n",
    "admision_bm = dataframe[\"chance of admit\"] > 0.7\n",
    "admision_bm"
   ]
  },
  {
   "cell_type": "code",
   "execution_count": null,
   "metadata": {},
   "outputs": [],
   "source": [
    "# ahora podemos aplicar la mascara al dataframe para mostrar los valores que han sido marcados\n",
    "# como True y ocultar los False. Para esto usamos el método where()\n",
    "dataframe.where(admision_bm)\n",
    "dataframe.head()"
   ]
  },
  {
   "cell_type": "code",
   "execution_count": null,
   "metadata": {},
   "outputs": [],
   "source": [
    "# podemos ver que solo los valores que cumplen la condición son mostrados, mientras que \n",
    "# los que no la cumplen han sido sustituidos por NaN\n",
    "\n",
    "# ahora podemos utilizar la función dropna() para eliminar los valores NaN\n",
    "dataframe.where(admision_bm).dropna().head()"
   ]
  },
  {
   "cell_type": "code",
   "execution_count": null,
   "metadata": {},
   "outputs": [],
   "source": [
    "# podemos obtener el mismo resultado de manera más simple\n",
    "dataframe[dataframe[\"chance of admit\"] > 0.7].head()"
   ]
  },
  {
   "cell_type": "code",
   "execution_count": null,
   "metadata": {},
   "outputs": [],
   "source": [
    "# tambien podemos combinar multiples mascaras booleanas, al igual que multiples criterios\n",
    "dataframe[(dataframe[\"chance of admit\"] > 0.7) & (dataframe[\"chance of admit\"] < 0.9)].head()"
   ]
  },
  {
   "cell_type": "code",
   "execution_count": null,
   "metadata": {},
   "outputs": [],
   "source": [
    "# Pandas cuenta con funciones que darían la misma salida sin utilizar signos de compararación\n",
    "# .gt() = >\n",
    "# .lt() = <\n",
    "dataframe[(dataframe[\"chance of admit\"].gt(0.7)) & (dataframe[\"chance of admit\"].lt(0.9))].head()"
   ]
  },
  {
   "cell_type": "code",
   "execution_count": null,
   "metadata": {},
   "outputs": [],
   "source": [
    "# al ser funciones de Pandas podemos concatenarlas sin usar &\n",
    "dataframe[dataframe[\"chance of admit\"].gt(0.7).lt(0.9)].head()"
   ]
  }
 ],
 "metadata": {
  "kernelspec": {
   "display_name": "Python 3",
   "language": "python",
   "name": "python3"
  },
  "language_info": {
   "codemirror_mode": {
    "name": "ipython",
    "version": 3
   },
   "file_extension": ".py",
   "mimetype": "text/x-python",
   "name": "python",
   "nbconvert_exporter": "python",
   "pygments_lexer": "ipython3",
   "version": "3.12.0"
  }
 },
 "nbformat": 4,
 "nbformat_minor": 2
}
