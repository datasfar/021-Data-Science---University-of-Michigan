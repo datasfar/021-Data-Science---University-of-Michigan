{
 "cells": [
  {
   "cell_type": "markdown",
   "metadata": {},
   "source": [
    "#### Pandas dataframes\n",
    "Son una estructura bidimensional (similar a una tabla en una base de datos o una hoja de cálculo de Excel) que puede almacenar datos de diferentes tipos en cada columna. Tiene etiquetas en los ejes de filas y columnas, lo que permite una fácil manipulación y acceso a los datos."
   ]
  },
  {
   "cell_type": "code",
   "execution_count": null,
   "metadata": {},
   "outputs": [],
   "source": [
    "import pandas as pd\n",
    "\n",
    "registro_uno = pd.Series({\"Nombre\":\"Alicia\", \"Clase\":\"Física\", \"Nota\":100})\n",
    "registro_dos = pd.Series({\"Nombre\":\"Marc\", \"Clase\":\"Matemáticas\", \"Nota\":90})\n",
    "registro_tres = pd.Series({\"Nombre\":\"Martin\", \"Clase\":\"Literatura\", \"Nota\":80})"
   ]
  },
  {
   "cell_type": "code",
   "execution_count": null,
   "metadata": {},
   "outputs": [],
   "source": [
    "# podemos crear un dataframe a partir de series\n",
    "dataframe = pd.DataFrame([registro_uno, registro_dos, registro_tres])\n",
    "dataframe"
   ]
  },
  {
   "cell_type": "code",
   "execution_count": null,
   "metadata": {},
   "outputs": [],
   "source": [
    "# como las series, los dataframes son indexables, al crear el dataframe podemos pasarle\n",
    "# el indice como parametro\n",
    "df_indexado = pd.DataFrame([registro_uno, registro_dos, registro_tres], \n",
    "                           index=[\"reg 1\", \"reg 2\", \"reg 3\"])\n",
    "df_indexado"
   ]
  },
  {
   "cell_type": "code",
   "execution_count": null,
   "metadata": {},
   "outputs": [],
   "source": [
    "# tambien podemos crear un dataframe a partir de una lista de diccionarios\n",
    "estudiantes = [{\"Nombre\":\"Alicia\", \"Clase\":\"Física\", \"Nota\":100},\n",
    "               {\"Nombre\":\"Marc\", \"Clase\":\"Matemáticas\", \"Nota\":90},\n",
    "               {\"Nombre\":\"Martin\", \"Clase\":\"Literatura\", \"Nota\":80}]\n",
    "\n",
    "df_estudiantes = pd.DataFrame(estudiantes, index=[\"reg 1\", \"reg 2\", \"reg 3\"])\n",
    "df_estudiantes"
   ]
  },
  {
   "cell_type": "code",
   "execution_count": null,
   "metadata": {},
   "outputs": [],
   "source": [
    "# al igual que en las series, en los dataframes tambien podemos acceder a los datos\n",
    "# utilizando los atributos .loc[] y .iloc[]. \n",
    "\n",
    "# podemos acceder a los tipos de los datos\n",
    "print(type(df_estudiantes))\n",
    "print(type(df_estudiantes.loc[\"reg 2\"]))\n",
    "\n",
    "# acceder a valores a partir del indice\n",
    "df_estudiantes.loc[\"reg 2\"]"
   ]
  },
  {
   "cell_type": "code",
   "execution_count": null,
   "metadata": {},
   "outputs": [],
   "source": [
    "# los valores de los indices y los nombres de las columnas pueden no ser unico, por lo \n",
    "# que si tenemos más de un valor a ser devuelto, este será un nuevo dataframe\n",
    "df_estudiantes = pd.DataFrame(estudiantes, index=[\"reg 1\", \"reg 2\", \"reg 1\"]) # <- tenemos 2 \"reg 1\"\n",
    "\n",
    "print(type(df_estudiantes))\n",
    "df_estudiantes.loc[\"reg 1\"]"
   ]
  },
  {
   "cell_type": "code",
   "execution_count": null,
   "metadata": {},
   "outputs": [],
   "source": [
    "# loc[] permite pasar dos parametros y nos devolvería una serie de los valores en la columna\n",
    "# y el indice seleccionado\n",
    "print(type(df_estudiantes.loc[\"reg 1\", \"Nombre\"]))\n",
    "df_estudiantes.loc[\"reg 1\", \"Nombre\"]"
   ]
  },
  {
   "cell_type": "code",
   "execution_count": null,
   "metadata": {},
   "outputs": [],
   "source": [
    "# para acceder a una columna concreta tenemos varias opciones:\n",
    "\n",
    "# la primera sería transponer la matriz para cambiar todas las filas por columnas y todas las \n",
    "# columnas por filas -> se hace con el atributo T\n",
    "print(df_estudiantes.T)\n",
    "print(df_estudiantes.T.loc[\"Nota\"])"
   ]
  },
  {
   "cell_type": "code",
   "execution_count": null,
   "metadata": {},
   "outputs": [],
   "source": [
    "# otra forma de acceder a las columnas es la utilización del nombre de la columna\n",
    "print(type(df_estudiantes[\"Clase\"]))\n",
    "print(df_estudiantes[\"Clase\"])"
   ]
  },
  {
   "cell_type": "code",
   "execution_count": null,
   "metadata": {},
   "outputs": [],
   "source": [
    "# tambien podemos acceder a los valores de una columna encadenando indexado\n",
    "# debe evitarse siempre que podamos usar otro enfoque dado el alto coste computacional\n",
    "# dado que devuelve una copia del dataframe en lugar de una vista\n",
    "print(df_estudiantes.loc[\"reg 1\"][\"Nota\"])"
   ]
  },
  {
   "cell_type": "code",
   "execution_count": null,
   "metadata": {},
   "outputs": [],
   "source": [
    "# si queremos seleccionar todas las filas, podemos utilizar las columnas para obtener una \n",
    "# porción (slice) desde el principio al final, de forma similar a como lo haciamos en las \n",
    "# listas de python\n",
    "\n",
    "# así podemos seleccionar todos los registros de unas columnas concretas\n",
    "df_estudiantes.loc[:,[\"Clase\", \"Nota\"]]"
   ]
  },
  {
   "cell_type": "markdown",
   "metadata": {},
   "source": [
    "##### Eliminar datos (drop)"
   ]
  },
  {
   "cell_type": "code",
   "execution_count": null,
   "metadata": {},
   "outputs": [],
   "source": [
    "# para eliminar las filas de un indice concreto podemos utilizar .drop() pasando como\n",
    "# parametro el indice de las filas a eliminar\n",
    "\n",
    "# realmente drop no elimina el registro del dataframe original, si no que genera una\n",
    "# nueva copia del dataframe modificado.\n",
    "\n",
    "print(df_estudiantes.drop(\"reg 2\"))\n",
    "print(df_estudiantes)"
   ]
  },
  {
   "cell_type": "code",
   "execution_count": null,
   "metadata": {},
   "outputs": [],
   "source": [
    "# con copy() podemos crear una copia de un dataframe\n",
    "df_copia = df_estudiantes.copy()\n",
    "\n",
    "# eliminar una columna, con implace=True el cambio se aplica al df en lugar de generar copia\n",
    "df_copia.drop(\"Nota\", inplace=True, axis=1) # ejes: filas = 0, columnas = 1\n",
    "print(df_copia)"
   ]
  },
  {
   "cell_type": "code",
   "execution_count": null,
   "metadata": {},
   "outputs": [],
   "source": [
    "# hay otra forma de dropear (eliminar) una columna de un dataframe, usando el operador de \n",
    "# indexación y la palabra clave del. \n",
    "\n",
    "# El cambio se realiza en el dataframe original y no devuelve una vista\n",
    "del df_copia[\"Clase\"]\n",
    "print(df_copia)"
   ]
  },
  {
   "cell_type": "markdown",
   "metadata": {},
   "source": [
    "#### Añadir columnas "
   ]
  },
  {
   "cell_type": "code",
   "execution_count": null,
   "metadata": {},
   "outputs": [],
   "source": [
    "# añadir una nueva columna es muy facil, basta con asignar un valor utilizando el operador de\n",
    "# indexación\n",
    "df_copia[\"Ranking\"] = None\n",
    "print(df_copia)"
   ]
  }
 ],
 "metadata": {
  "kernelspec": {
   "display_name": "Python 3",
   "language": "python",
   "name": "python3"
  },
  "language_info": {
   "codemirror_mode": {
    "name": "ipython",
    "version": 3
   },
   "file_extension": ".py",
   "mimetype": "text/x-python",
   "name": "python",
   "nbconvert_exporter": "python",
   "pygments_lexer": "ipython3",
   "version": "3.12.0"
  }
 },
 "nbformat": 4,
 "nbformat_minor": 2
}
