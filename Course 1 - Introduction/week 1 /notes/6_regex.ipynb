{
 "cells": [
  {
   "cell_type": "markdown",
   "metadata": {},
   "source": [
    "### Expresiones Regulares (REGEX)\n",
    "Las regex son patrones utilizados para buscar y manipular cadenas de texto. Son muy potentes y se utilizan en una amplia variedad de tareas relacionadas con el procesamiento de texto, como validación de entradas, búsqueda y reemplazo de texto, extracción de datos, entre otros."
   ]
  },
  {
   "cell_type": "code",
   "execution_count": null,
   "metadata": {},
   "outputs": [],
   "source": [
    "import re"
   ]
  },
  {
   "cell_type": "markdown",
   "metadata": {},
   "source": [
    "#### Funciones "
   ]
  },
  {
   "cell_type": "code",
   "execution_count": null,
   "metadata": {},
   "outputs": [],
   "source": [
    "# match() -> busca un patrón al principio de una cadena. Si lo encuentra devuelve un \n",
    "# objeto Match, si no, devuelve \"None\"\n",
    "\n",
    "texto = \"Encantado de conocerte\"\n",
    "\n",
    "resultado = re.match(\"Encantado\", texto)\n",
    "print(resultado)\n",
    "\n",
    "resultado = re.match(\"Hola\", texto)\n",
    "print(resultado)\n"
   ]
  },
  {
   "cell_type": "code",
   "execution_count": null,
   "metadata": {},
   "outputs": [],
   "source": [
    "# search() -> busca un patrón en cualquier parte de la cadena. Si lo encuentra devuelve \n",
    "# un objeto Match, si no, devuelve \"None\"\n",
    "\n",
    "texto = \"Hoy será un buen día.\"\n",
    "if re.search(\"buen\", texto):\n",
    "    print(\"Genial!\")\n",
    "else:\n",
    "    print(\"F\")"
   ]
  },
  {
   "cell_type": "code",
   "execution_count": null,
   "metadata": {},
   "outputs": [],
   "source": [
    "# findall() -> devuelve una lista con todas las coincidencias que se encuentren en la \n",
    "# cadena. Se utiliza para extraer multiples elementos que coincidan con un patrón.\n",
    "\n",
    "texto = \"Esto es un texto de ejemplo, un tipo string.\"\n",
    "resultados = re.findall(\"un\", texto)\n",
    "print(resultados)"
   ]
  },
  {
   "cell_type": "code",
   "execution_count": null,
   "metadata": {},
   "outputs": [],
   "source": [
    "# split() -> divide una cadena en una lista utilizando un patrón como delimitador.\n",
    "# Devuelve una lista de segmentos de la cadena.\n",
    "\n",
    "texto = \"Esto es un texto de ejemplo, un tipo string.\"\n",
    "resultados = re.split(\"un\", texto)\n",
    "print(resultados)"
   ]
  },
  {
   "cell_type": "markdown",
   "metadata": {},
   "source": [
    "#### Patrones"
   ]
  },
  {
   "cell_type": "markdown",
   "metadata": {},
   "source": [
    "##### Básicos\n",
    "    .: Cualquier carácter excepto nueva línea.\n",
    "    ^: Inicio de la cadena.\n",
    "    $: Final de la cadena.\n",
    "    *: Cero o más repeticiones del carácter o grupo anterior.\n",
    "    +: Una o más repeticiones del carácter o grupo anterior.\n",
    "    ?: Cero o una repetición del carácter o grupo anterior.\n",
    "    {n}: Exactamente n repeticiones.\n",
    "    {n,}: Al menos n repeticiones.\n",
    "    {n,m}: Entre n y m repeticiones."
   ]
  },
  {
   "cell_type": "code",
   "execution_count": null,
   "metadata": {},
   "outputs": [],
   "source": [
    "# \".\" coincide con cualquier cadena donde 'a' y 'b' están separados por un solo carácter\n",
    "pattern = r'a.b'\n",
    "string = 'acb a_b a-b a\\nb'\n",
    "matches = re.findall(pattern, string)\n",
    "print(\"Coincidencias:\", matches)\n",
    "\n",
    "# \"^\" coincide con cualquier cadena que comienza con \"Hola\"\n",
    "pattern = r'^Hola'\n",
    "string = 'Hola mundo'\n",
    "match = re.search(pattern, string)\n",
    "print(\"Coincidencia:\", match.group() if match else \"No se encontró coincidencia\")\n",
    "\n",
    "# \"$\" coincide con cualquier cadena que termina con \"mundo\"\n",
    "pattern = r'mundo$'\n",
    "string = 'Hola mundo'\n",
    "match = re.search(pattern, string)\n",
    "print(\"Coincidencia:\", match.group() if match else \"No se encontró coincidencia\") \n",
    "\n",
    "# \"*\" coincide con 'a' seguido de cero o más 'b', seguido de 'c'\n",
    "pattern = r'ab*c'\n",
    "string = 'ac abc abbc'\n",
    "matches = re.findall(pattern, string)\n",
    "print(\"Coincidencias:\", matches) \n",
    "\n",
    "# \"+\" coincide con 'a' seguido de una o más 'b', seguido de 'c'\n",
    "pattern = r'ab+c'\n",
    "string = 'ac abc abbc'\n",
    "matches = re.findall(pattern, string)\n",
    "print(\"Coincidencias:\", matches)\n",
    "\n",
    "# \"?\" coincide con 'a' seguido de cero o una 'b', seguido de 'c'.\n",
    "pattern = r'ab?c'\n",
    "string = 'ac abc abbc'\n",
    "matches = re.findall(pattern, string)\n",
    "print(\"Coincidencias:\", matches)\n",
    "\n",
    "# \"{n}\" coincide con exactamente n veces 'a' consecutivas \n",
    "pattern = r'a{3}'\n",
    "string = 'a aa aaa aaaa'\n",
    "matches = re.findall(pattern, string)\n",
    "print(\"Coincidencias:\", matches)\n",
    "\n",
    "# \"{n,}\" coincide con al menos n veces 'a' consecutivas\n",
    "pattern = r'a{2,}'\n",
    "string = 'a aa aaa aaaa'\n",
    "matches = re.findall(pattern, string)\n",
    "print(\"Coincidencias:\", matches) \n",
    "\n",
    "# {n,n} cincide con entre n y n veces 'a' consecutivas\n",
    "pattern = r'a{2,3}'\n",
    "string = 'a aa aaa aaaa'\n",
    "matches = re.findall(pattern, string)\n",
    "print(\"Coincidencias:\", matches)"
   ]
  },
  {
   "cell_type": "markdown",
   "metadata": {},
   "source": [
    "##### Grupos y Alternancia\n",
    "    (): Agrupación de patrones.\n",
    "    |: Alternancia (o lógico)."
   ]
  },
  {
   "cell_type": "code",
   "execution_count": null,
   "metadata": {},
   "outputs": [],
   "source": [
    "# \"()\" los paréntesis se utilizan para agrupar partes de la expresión regular. Esto es útil \n",
    "# cuando necesitas aplicar operadores a un grupo de caracteres o cuando deseas capturar \n",
    "# partes específicas de la coincidencia\n",
    "pattern = r'(\\d{3})-(\\d{2})-(\\d{4})'\n",
    "string = 'Mi número es 123-45-6789.'\n",
    "match = re.search(pattern, string)\n",
    "\n",
    "if match:\n",
    "    print(\"Coincidencia:\", match.group())  \n",
    "    print(\"Grupo 1:\", match.group(1))    \n",
    "    print(\"Grupo 2:\", match.group(2))      \n",
    "    print(\"Grupo 3:\", match.group(3))  \n",
    "\n",
    "\n",
    "# \"|\" el operador | se utiliza para especificar alternativas. Coincide con cualquiera de los patrones\n",
    "# separados por |\n",
    "pattern = r'a|b'\n",
    "string = 'a b c d e f g h'\n",
    "matches = re.findall(pattern, string)\n",
    "print(\"Coincidencias:\", matches)"
   ]
  },
  {
   "cell_type": "markdown",
   "metadata": {},
   "source": [
    "#### Caracteres\n",
    "\n",
    "##### Clases\n",
    "    \\d: Cualquier dígito, equivale a [0-9].\n",
    "    \\D: Cualquier carácter que no sea un dígito, equivale a [^0-9].\n",
    "    \\w: Cualquier carácter de palabra (letra, dígito, guion bajo), equivale a [a-zA-Z0-9_].\n",
    "    \\W: Cualquier carácter que no sea de palabra, equivale a [^a-zA-Z0-9_].\n",
    "    \\s: Cualquier espacio en blanco (espacio, tabulación, nueva línea), equivale a [ \\t\\n\\r\\f\\v].\n",
    "    \\S: Cualquier carácter que no sea un espacio en blanco, equivale a [^ \\t\\n\\r\\f\\v].\n",
    "\n",
    "##### Conjuntos\n",
    "    [abc]: Cualquier carácter 'a', 'b' o 'c'.\n",
    "    [^abc]: Cualquier carácter excepto 'a', 'b' o 'c'.\n",
    "    [a-z]: Cualquier carácter en el rango de 'a' a 'z'.\n",
    "    [A-Z]: Cualquier carácter en el rango de 'A' a 'Z'.\n",
    "    [0-9]: Cualquier dígito del 0 al 9."
   ]
  },
  {
   "cell_type": "code",
   "execution_count": null,
   "metadata": {},
   "outputs": [],
   "source": [
    "# Encontrar nombres propios en un texto\n",
    "# Patrón: \\b[A-Z][a-z]*\\b\n",
    "#\n",
    "#   [A-Z]: Una letra mayúscula.\n",
    "#   [a-z]*: Cero o más letras minúsculas.\n",
    "#   \\b: Borde de palabra.\n",
    "\n",
    "pattern = r'\\b[A-Z][a-z]*\\b'\n",
    "string = 'Alicia y Roberto asistieron a una entrevista con Pablo.'\n",
    "matches = re.findall(pattern, string)\n",
    "print(\"Nombres propios encontrados:\", matches)"
   ]
  },
  {
   "cell_type": "code",
   "execution_count": null,
   "metadata": {},
   "outputs": [],
   "source": [
    "# Validación de un número de teléfono en el formato \"(123) 456-7890\".\n",
    "# Patrón: \"^\\(\\d{3}\\)\\s\\d{3}-\\d{4}$\"\n",
    "#\n",
    "#   \\d{3}: Tres dígitos.\n",
    "#   \\s: Un espacio.\n",
    "#   \\d{4}: Cuatro dígitos.\n",
    "#   \\(\\d{3}\\): Tres dígitos dentro de paréntesis.\n",
    "\n",
    "pattern = r'^\\(\\d{3}\\)\\s\\d{3}-\\d{4}$'\n",
    "string = '(123) 456-7890'\n",
    "match = re.match(pattern, string)\n",
    "print(\"Número de teléfono válido:\", bool(match)) "
   ]
  },
  {
   "cell_type": "code",
   "execution_count": null,
   "metadata": {},
   "outputs": [],
   "source": [
    "# Validación de correo electrónico.\n",
    "# Patrón: ^[\\w\\.-]+@[\\w\\.-]+\\.\\w+$\n",
    "# \n",
    "#   \\w: Cualquier carácter de palabra.\n",
    "#   [\\w\\.-]+: Uno o más caracteres de palabra, puntos o guiones.\n",
    "#   @: El símbolo arroba.\n",
    "#   [\\w\\.-]+\\.\\w+: Dominio seguido de un punto y una palabra.\n",
    "\n",
    "pattern = r'^[\\w\\.-]+@[\\w\\.-]+\\.\\w+$'\n",
    "string = 'correo.ejemplo@dominio.com'\n",
    "match = re.match(pattern, string)\n",
    "print(\"Correo electrónico válido:\", bool(match))"
   ]
  },
  {
   "cell_type": "markdown",
   "metadata": {},
   "source": [
    "##### Secuencias de Escape\n",
    "    \\\\: Barra invertida literal.\n",
    "    \\.: Punto literal.\n",
    "    \\*: Asterisco literal.\n",
    "    \\+: Más literal.\n",
    "    \\?: Signo de interrogación literal.\n",
    "    \\|: Barra vertical literal.\n",
    "    \\(: Paréntesis izquierdo literal.\n",
    "    \\): Paréntesis derecho literal.\n",
    "    \\{: Llave izquierda literal.\n",
    "    \\}: Llave derecha literal.\n",
    "    \\[: Corchete izquierdo literal.\n",
    "    \\]: Corchete derecho literal."
   ]
  },
  {
   "cell_type": "code",
   "execution_count": null,
   "metadata": {},
   "outputs": [],
   "source": [
    "# busca el signo * en una cadena\n",
    "pattern = r'\\*'\n",
    "string = '5 * 3 = 15'\n",
    "match = re.search(pattern, string)\n",
    "print(\"Coincidencia:\", match.group() if match else \"No se encontró coincidencia\")\n",
    "\n",
    "# busca el signo + en una cadena \n",
    "pattern = r'\\+'\n",
    "string = '3 + 5 = 8'\n",
    "match = re.search(pattern, string)\n",
    "print(\"Coincidencia:\", match.group() if match else \"No se encontró coincidencia\")\n",
    "\n",
    "# busca el signo ? en una cadena\n",
    "pattern = r'\\?'\n",
    "string = '¿Cómo estás?'\n",
    "match = re.search(pattern, string)\n",
    "print(\"Coincidencia:\", match.group() if match else \"No se encontró coincidencia\")"
   ]
  },
  {
   "cell_type": "markdown",
   "metadata": {},
   "source": [
    "##### Anclas\n",
    "    \\b: Frontera de palabra.\n",
    "    \\B: No frontera de palabra.\n",
    "    \\A: Inicio de la cadena.\n",
    "    \\Z: Final de la cadena."
   ]
  },
  {
   "cell_type": "code",
   "execution_count": 17,
   "metadata": {},
   "outputs": [
    {
     "name": "stdout",
     "output_type": "stream",
     "text": [
      "Coincidencias: ['word', 'word']\n"
     ]
    }
   ],
   "source": [
    "# coincide con la palabra \"word\" como una palabra completa\n",
    "pattern = r'\\bword\\b'\n",
    "string = 'A word of warning: the word is out.'\n",
    "matches = re.findall(pattern, string)\n",
    "print(\"Coincidencias:\", matches)\n",
    "\n",
    "# coincide con \"word\" cuando no está en el límite de una palabra\n",
    "pattern = r'\\Bword\\B'\n",
    "string = 'A sword wordy wordsmith.'\n",
    "matches = re.findall(pattern, string)\n",
    "print(\"Coincidencias:\", matches)\n",
    "\n",
    "# coincide con \"Start\" solo si está al inicio de la cadena\n",
    "pattern = r'\\AStart'\n",
    "string = 'Start at the beginning. Start again.'\n",
    "match = re.match(pattern, string)\n",
    "print(\"Coincidencia:\", match.group() if match else \"No se encontró coincidencia\") \n",
    "\n",
    "# coincide con \"end\" solo si está al final de la cadena\n",
    "pattern = r'end\\Z'\n",
    "string = 'This is the end'\n",
    "match = re.search(pattern, string)\n",
    "print(\"Coincidencia:\", match.group() if match else \"No se encontró coincidencia\") "
   ]
  }
 ],
 "metadata": {
  "kernelspec": {
   "display_name": "Python 3",
   "language": "python",
   "name": "python3"
  },
  "language_info": {
   "codemirror_mode": {
    "name": "ipython",
    "version": 3
   },
   "file_extension": ".py",
   "mimetype": "text/x-python",
   "name": "python",
   "nbconvert_exporter": "python",
   "pygments_lexer": "ipython3",
   "version": "3.12.0"
  }
 },
 "nbformat": 4,
 "nbformat_minor": 2
}
