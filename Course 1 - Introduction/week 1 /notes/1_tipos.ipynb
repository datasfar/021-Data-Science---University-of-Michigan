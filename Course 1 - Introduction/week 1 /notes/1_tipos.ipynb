{
 "cells": [
  {
   "cell_type": "markdown",
   "metadata": {},
   "source": [
    "# Tipos y secuencias en python"
   ]
  },
  {
   "cell_type": "code",
   "execution_count": 1,
   "metadata": {},
   "outputs": [
    {
     "name": "stdout",
     "output_type": "stream",
     "text": [
      "<class 'str'>\n",
      "<class 'int'>\n",
      "<class 'float'>\n",
      "<class 'bool'>\n",
      "<class 'NoneType'>\n",
      "<class 'function'>\n"
     ]
    }
   ],
   "source": [
    "# Tipos básicos\n",
    "t_str = \"Something here!\"\n",
    "print(type(t_str))\n",
    "\n",
    "t_int = 12\n",
    "print(type(t_int))\n",
    "\n",
    "t_float = 12.12\n",
    "print(type(t_float))\n",
    "\n",
    "t_bool = True\n",
    "print(type(t_bool))\n",
    "\n",
    "t_none = None\n",
    "print(type(t_none))\n",
    "\n",
    "def operate(x, y):\n",
    "    return x + y\n",
    "t_function = operate\n",
    "print(type(t_function))"
   ]
  },
  {
   "cell_type": "markdown",
   "metadata": {},
   "source": [
    "### Tuplas"
   ]
  },
  {
   "cell_type": "code",
   "execution_count": 2,
   "metadata": {},
   "outputs": [
    {
     "name": "stdout",
     "output_type": "stream",
     "text": [
      "<class 'tuple'>\n",
      "2.3\n"
     ]
    }
   ],
   "source": [
    "t_tuple = (1, \"python\", 2.3, \"C++\", \"cobol\", 0.2)\n",
    "print(type(t_tuple))\n",
    "\n",
    "# desempaque -> permite asociar varias variables a la vez\n",
    "x, y, z, j, m, n = t_tuple\n",
    "print(z)"
   ]
  },
  {
   "cell_type": "markdown",
   "metadata": {},
   "source": [
    "### Listas \n",
    "Las listas son muy parecidas a las tuplas pero son mutables, por lo que puedes cambiar son longitud, número de elementos y valores de los elementos.\n"
   ]
  },
  {
   "cell_type": "code",
   "execution_count": 3,
   "metadata": {},
   "outputs": [
    {
     "name": "stdout",
     "output_type": "stream",
     "text": [
      "<class 'list'>\n",
      "[1, 2, 'b', 23, 0.2, 'jdk']\n",
      "[1, 2, 'b', 23, 0.2, 'jdk', 2.1, 'vsc']\n",
      "1\n",
      "2\n",
      "b\n",
      "23\n",
      "0.2\n",
      "jdk\n",
      "2.1\n",
      "vsc\n",
      "1\n",
      "vsc\n",
      "[1, 2, 'b']\n",
      "[1, 2, 3, 4, 5]\n",
      "[1, 2, 3, 4, 5, 1, 2, 3, 4, 5]\n",
      "True\n"
     ]
    }
   ],
   "source": [
    "t_list = [1, 2, \"b\", 23, .2, \"jdk\"]\n",
    "print(type(t_list))\n",
    "print(t_list)\n",
    "\n",
    "# append -> añade nuevos elementos a la lista\n",
    "t_list.append(2.1)\n",
    "t_list.append(\"vsc\")\n",
    "print(t_list)\n",
    "\n",
    "# iterar -> podemos ver todos los valores individuales de una lista iterandola con un bucle for\n",
    "for item in t_list:\n",
    "    print(item)\n",
    "\n",
    "# indexado -> podemos acceder a sus valores utilizando el indexado entre corchetes\n",
    "print(t_list[0]) # primer elemento de la lista\n",
    "print(t_list[-1]) # ultimo elemento de la lista\n",
    "print(t_list[0:3]) # rango de elementos, primer valor x incluido, segundo y excluido [x:y)\n",
    "\n",
    "# concatenar -> podemos concatenar listas con +\n",
    "new_list = [1, 2, 3] + [4, 5]\n",
    "print(new_list)\n",
    "\n",
    "# repetir -> podemos repetir listas con *\n",
    "print(new_list * 2)\n",
    "\n",
    "# esta en -> podemos ver si un valor esta en una lista con in, retorna un boolean\n",
    "print(5 in new_list)"
   ]
  },
  {
   "cell_type": "markdown",
   "metadata": {},
   "source": [
    "### Strings\n",
    "Las listas y las cadenas de texto se comportan de forma muy parecida en python. Podemos ver los strings como listas de carácteres. Así que podemos realizar con ellas las mismas operaciones que con las listas."
   ]
  },
  {
   "cell_type": "code",
   "execution_count": 4,
   "metadata": {},
   "outputs": [
    {
     "name": "stdout",
     "output_type": "stream",
     "text": [
      "Robert Ribs\n",
      "RobertRobertRobert\n",
      "True\n",
      "['This', 'is', 'a', 'example', 'text.']\n",
      "This\n",
      "Hello 123\n"
     ]
    }
   ],
   "source": [
    "name = \"Robert\"\n",
    "lastname = \"Ribs\"\n",
    "\n",
    "print(name + \" \" + lastname)\n",
    "print(name * 3)\n",
    "print(\"R\" in name)\n",
    "\n",
    "# split() -> podemos dividir cadenas de caracteres basandonos en un criterio\n",
    "some_text = \"This is a example text.\"\n",
    "print(some_text.split(\" \")) # divimos por expacios\n",
    "print(some_text.split(\" \")[0]) # tambien permite la utilización de indices\n",
    "\n",
    "# str() -> permite convertir otros tipos a strings para poder operar con ellos\n",
    "print(\"Hello \" + str(123))"
   ]
  },
  {
   "cell_type": "markdown",
   "metadata": {},
   "source": [
    "### Método Format\n",
    "Podemos dar formatos de salida a un string de la siguiente forma."
   ]
  },
  {
   "cell_type": "code",
   "execution_count": 5,
   "metadata": {},
   "outputs": [
    {
     "name": "stdout",
     "output_type": "stream",
     "text": [
      "Martin vendio 5 objetos, a un precio de 2.1 cada uno. El precio final es 10.5\n"
     ]
    }
   ],
   "source": [
    "ventas = {\n",
    "    \"precio\":2.10,\n",
    "    \"cantidad\":5,\n",
    "    \"encargado\": \"Martin\"\n",
    "}\n",
    "\n",
    "salida = \"{} vendio {} objetos, a un precio de {} cada uno. El precio final es {}\"\n",
    "\n",
    "print(salida.format(\n",
    "    ventas[\"encargado\"],\n",
    "    ventas[\"cantidad\"],\n",
    "    ventas[\"precio\"],\n",
    "    ventas[\"precio\"] * ventas[\"cantidad\"]\n",
    "))"
   ]
  },
  {
   "cell_type": "markdown",
   "metadata": {},
   "source": [
    "### Diccionarios\n",
    "Los diccionarios almacenan pares de clave-valor, no tienen orden. Se denotan con llaves {}."
   ]
  },
  {
   "cell_type": "code",
   "execution_count": 6,
   "metadata": {},
   "outputs": [
    {
     "name": "stdout",
     "output_type": "stream",
     "text": [
      "<class 'dict'>\n",
      "{'name': 'Robert', 'mail': 'rob@mail.com', 'age': 23}\n",
      "dict_keys(['name', 'mail', 'age'])\n",
      "dict_values(['Robert', 'rob@mail.com', 23])\n",
      "Robert\n",
      "{'name': 'Robert', 'mail': 'rob@mail.com', 'age': 23, 'job': False}\n",
      "name\n",
      "mail\n",
      "age\n",
      "job\n",
      "Robert\n",
      "rob@mail.com\n",
      "23\n",
      "False\n",
      "('name', 'Robert')\n",
      "('mail', 'rob@mail.com')\n",
      "('age', 23)\n",
      "('job', False)\n"
     ]
    }
   ],
   "source": [
    "t_dict = {\"name\":\"Robert\", \"mail\":\"rob@mail.com\", \"age\":23}\n",
    "print(type(t_dict))\n",
    "print(t_dict)\n",
    "\n",
    "print(t_dict.keys()) # podemos acceder a las claves con keys()\n",
    "print(t_dict.values()) # podemos acceder a los valores con value()\n",
    "print(t_dict[\"name\"]) # tambien podemos acceder a los valores asociados usando la clave\n",
    "\n",
    "# añadir nuevos grupos clave-valor\n",
    "t_dict[\"job\"] = False\n",
    "print(t_dict)\n",
    "\n",
    "# iterar claves en un diccionario\n",
    "for key in t_dict:\n",
    "    print(key)\n",
    "\n",
    "# iterar valores en un diccionario\n",
    "for stat in t_dict:\n",
    "    print(t_dict[stat])\n",
    "\n",
    "# items() -> nos permite iterar claves y valores a la vez\n",
    "for group in t_dict.items():\n",
    "    print(group)"
   ]
  }
 ],
 "metadata": {
  "kernelspec": {
   "display_name": "Python 3",
   "language": "python",
   "name": "python3"
  },
  "language_info": {
   "codemirror_mode": {
    "name": "ipython",
    "version": 3
   },
   "file_extension": ".py",
   "mimetype": "text/x-python",
   "name": "python",
   "nbconvert_exporter": "python",
   "pygments_lexer": "ipython3",
   "version": "3.11.0"
  }
 },
 "nbformat": 4,
 "nbformat_minor": 2
}
