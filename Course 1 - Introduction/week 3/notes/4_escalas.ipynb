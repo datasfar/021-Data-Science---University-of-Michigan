{
 "cells": [
  {
   "cell_type": "markdown",
   "metadata": {},
   "source": [
    "#### Tipos de datos y Escalas\n",
    "\n",
    "Pandas soporta una variedad de tipos de datos computacionales como cadenas, enteros y números de coma flotante. Sin embargo, estos tipos no siempre capturan completamente la escala o naturaleza de los datos. Existen cuatro escalas importantes: proporciones, intervalos, ordinales y nominales.\n",
    "\n",
    "    1- Escala de Proporciones: Las unidades de medida están igualmente espaciadas y todas las operaciones matemáticas (suma, resta, multiplicación, división) son válidas. Ejemplos incluyen altura y peso.\n",
    "\n",
    "    2- Escala de Intervalos: Las unidades de medida están igualmente espaciadas, pero no hay un cero verdadero, por lo que las operaciones como la multiplicación y la división no son aplicables. Ejemplos son la temperatura en Celsius o Fahrenheit.\n",
    "\n",
    "    3- Escala Ordinal: El orden de los valores es significativo, pero las diferencias entre valores no son uniformes. Un ejemplo es el sistema de calificación con letras donde las categorías tienen un orden, pero las diferencias entre las letras pueden variar.\n",
    "\n",
    "    4- Escala Nominal: Los datos son categóricos y el orden no tiene significado inherente. Ejemplos son los nombres de equipos en deportes.\n",
    "\n",
    "Comprender estas escalas es crucial para aplicar pruebas estadísticas avanzadas y algoritmos de aprendizaje automático. Las diferencias en las escalas pueden afectar la interpretación de los datos y la selección de métodos analíticos adecuados.\n",
    "\n",
    "Pandas ofrece soporte para datos categóricos a través del método .astype('category'). Esto permite tratar datos como categorías ordenadas o no ordenadas, lo cual es útil para comparaciones y operaciones específicas en análisis de datos.\n",
    "\n",
    "##### Operaciones y transformaciones especificas\n",
    "\n",
    "    Variables Ficticias: La función get_dummies() de Pandas convierte variables categóricas en columnas de 0s y 1s, facilitando su uso en algoritmos de aprendizaje automático y minería de datos.\n",
    "\n",
    "    Transformación de Escalas: La función cut() se utiliza para convertir datos de escala de intervalo o proporción en datos categóricos. Esto es útil para visualizaciones o análisis donde la representación categórica es preferida.\n",
    "\n"
   ]
  },
  {
   "cell_type": "code",
   "execution_count": null,
   "metadata": {},
   "outputs": [],
   "source": [
    "import pandas as pd\n",
    "\n",
    "df=pd.DataFrame(['A+', 'A', 'A-', 'B+', 'B', 'B-', 'C+', 'C', 'C-', 'D+', 'D'],\n",
    "                index=['excellent', 'excellent', 'excellent', 'good', 'good', 'good', \n",
    "                       'ok', 'ok', 'ok', 'poor', 'poor'],\n",
    "               columns=[\"Grades\"])\n"
   ]
  },
  {
   "cell_type": "code",
   "execution_count": null,
   "metadata": {},
   "outputs": [],
   "source": [
    "df.dtypes"
   ]
  },
  {
   "cell_type": "code",
   "execution_count": null,
   "metadata": {},
   "outputs": [],
   "source": [
    "# pd.CategoricalDtype: Esta función de Pandas crea un tipo de datos categórico ordenado. Se le \n",
    "# pasa una lista de categorías (categories) que representan las diferentes calificaciones, desde \n",
    "# 'D' hasta 'A+'.\n",
    "\n",
    "# ordered=True: Indica que estas categorías tienen un orden definido, lo cual es crucial para \n",
    "# interpretaciones como comparaciones y operaciones que dependen del orden de las categorías.\n",
    "\n",
    "my_categories=pd.CategoricalDtype(categories=['D', 'D+', 'C-', 'C', 'C+', 'B-', 'B', 'B+', 'A-', 'A', 'A+'], \n",
    "                           ordered=True)\n",
    "\n",
    "grades=df[\"Grades\"].astype(my_categories)\n",
    "grades.head()"
   ]
  },
  {
   "cell_type": "code",
   "execution_count": null,
   "metadata": {},
   "outputs": [],
   "source": [
    "# al tener orden nos permite usar operadores de comparación\n",
    "df[df[\"Grades\"]>\"C\"]"
   ]
  },
  {
   "cell_type": "code",
   "execution_count": null,
   "metadata": {},
   "outputs": [],
   "source": [
    "import numpy as np\n",
    "\n",
    "df=pd.read_csv(\"../datasets/census.csv\")\n",
    "df=df[df['SUMLEV']==50]\n",
    "\n",
    "df=df.set_index('STNAME').groupby(level=0)['CENSUS2010POP'].agg(np.average)\n",
    "df.head()\n",
    "pd.cut(df,10)"
   ]
  },
  {
   "cell_type": "code",
   "execution_count": null,
   "metadata": {},
   "outputs": [],
   "source": [
    "# pd.cut(df, 10): Divide los valores en la serie df en 10 intervalos iguales. Esta \n",
    "# función es útil para crear categorías discretas (bins) basadas en valores numéricos \n",
    "# continuos, como en este caso, la población promedio del censo.\n",
    "\n",
    "pd.cut(df,10)"
   ]
  }
 ],
 "metadata": {
  "kernelspec": {
   "display_name": "Python 3",
   "language": "python",
   "name": "python3"
  },
  "language_info": {
   "codemirror_mode": {
    "name": "ipython",
    "version": 3
   },
   "file_extension": ".py",
   "mimetype": "text/x-python",
   "name": "python",
   "nbconvert_exporter": "python",
   "pygments_lexer": "ipython3",
   "version": "3.12.0"
  }
 },
 "nbformat": 4,
 "nbformat_minor": 2
}
