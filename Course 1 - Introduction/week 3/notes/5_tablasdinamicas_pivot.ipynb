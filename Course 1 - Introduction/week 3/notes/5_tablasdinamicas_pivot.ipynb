{
 "cells": [
  {
   "cell_type": "markdown",
   "metadata": {},
   "source": [
    "#### Tablas dinámicas / Pivot tables"
   ]
  },
  {
   "cell_type": "code",
   "execution_count": null,
   "metadata": {},
   "outputs": [],
   "source": [
    "import pandas as pd\n",
    "import numpy as np\n",
    "\n",
    "df = pd.read_csv(\"../datasets/cwurData.csv\")\n",
    "df"
   ]
  },
  {
   "cell_type": "code",
   "execution_count": null,
   "metadata": {},
   "outputs": [],
   "source": [
    "# creamos una función que asigne un tier en base al ranking\n",
    "def create_category(ranking):\n",
    "    if (ranking >= 1) & (ranking <= 100):\n",
    "        return \"First Tier Top Unversity\"\n",
    "    elif (ranking >= 101) & (ranking <= 200):\n",
    "        return \"Second Tier Top Unversity\"\n",
    "    elif (ranking >= 201) & (ranking <= 300):\n",
    "        return \"Third Tier Top Unversity\"\n",
    "    return \"Other Top Unversity\"\n",
    "\n",
    "# aplicamos la funcion a una columna y guardamos el resultado en otra\n",
    "df['Rank_Level'] = df['world_rank'].apply(lambda x: create_category(x))\n",
    "df"
   ]
  },
  {
   "cell_type": "code",
   "execution_count": null,
   "metadata": {},
   "outputs": [],
   "source": [
    "# creamos una tabla pivote con: df.pivot_table(values=\"score\", index=\"country\", columns=\"Rank_Level\", aggfunc=[np.mean])\n",
    "\n",
    "# values=\"score\": Especifica que los valores a considerar para la tabla pivote son los puntajes, \n",
    "# que están en la columna \"score\".\n",
    "\n",
    "# index=\"country\": Usa la columna \"country\" como índice de la tabla pivote, lo que significa que\n",
    "# cada fila de la tabla pivote corresponderá a un país.\n",
    "\n",
    "# columns=\"Rank_Level\": Utiliza la columna \"Rank_Level\" para crear columnas en la tabla pivote, lo \n",
    "# que implica que cada nivel único de \"Rank_Level\" se convertirá en una columna separada en la tabla pivote.\n",
    "\n",
    "# aggfunc=[np.mean]: Especifica que se aplicará la función de agregación np.mean (promedio) para \n",
    "# calcular los valores de la tabla pivote. En este caso, se calculará el promedio de los puntajes \n",
    "# para cada combinación de país y nivel de rango.\n",
    "\n",
    "df.pivot_table(values=\"score\", index=\"country\", columns=\"Rank_Level\", aggfunc=[np.mean]).head()"
   ]
  },
  {
   "cell_type": "code",
   "execution_count": null,
   "metadata": {},
   "outputs": [],
   "source": [
    "# las tablas pivote no estan limitadas a una sola función, con aggfunc podemos pasar varias\n",
    "# funciones como una lista\n",
    "\n",
    "df.pivot_table(values='score', index='country', columns='Rank_Level', aggfunc=[np.mean, np.max]).head()"
   ]
  },
  {
   "cell_type": "code",
   "execution_count": null,
   "metadata": {},
   "outputs": [],
   "source": [
    "# margins=True: calcula los márgenes (totales generales) a lo largo de cada dimensión. En este caso, \n",
    "# agrega una fila y una columna adicionales al final de la tabla pivote que muestran los totales generales:\n",
    "\n",
    "# La fila adicional (All) mostrará el promedio y el máximo de los puntajes para cada país, independientemente\n",
    "#  del nivel de rango.\n",
    "\n",
    "# La columna adicional (All) mostrará el promedio y el máximo de los puntajes para cada nivel de rango, \n",
    "# independientemente del país.\n",
    "\n",
    "df.pivot_table(values='score', index='country', columns='Rank_Level', aggfunc=[np.mean, np.max], \n",
    "               margins=True).head()"
   ]
  },
  {
   "cell_type": "code",
   "execution_count": 29,
   "metadata": {},
   "outputs": [
    {
     "name": "stdout",
     "output_type": "stream",
     "text": [
      "Index(['Argentina', 'Australia', 'Austria', 'Belgium', 'Brazil', 'Bulgaria',\n",
      "       'Canada', 'Chile', 'China', 'Colombia', 'Croatia', 'Cyprus',\n",
      "       'Czech Republic', 'Denmark', 'Egypt', 'Estonia', 'Finland', 'France',\n",
      "       'Germany', 'Greece', 'Hong Kong', 'Hungary', 'Iceland', 'India', 'Iran',\n",
      "       'Ireland', 'Israel', 'Italy', 'Japan', 'Lebanon', 'Lithuania',\n",
      "       'Malaysia', 'Mexico', 'Netherlands', 'New Zealand', 'Norway', 'Poland',\n",
      "       'Portugal', 'Puerto Rico', 'Romania', 'Russia', 'Saudi Arabia',\n",
      "       'Serbia', 'Singapore', 'Slovak Republic', 'Slovenia', 'South Africa',\n",
      "       'South Korea', 'Spain', 'Sweden', 'Switzerland', 'Taiwan', 'Thailand',\n",
      "       'Turkey', 'USA', 'Uganda', 'United Arab Emirates', 'United Kingdom',\n",
      "       'Uruguay', 'All'],\n",
      "      dtype='object', name='country')\n",
      "MultiIndex([('mean',  'First Tier Top Unversity'),\n",
      "            ('mean',       'Other Top Unversity'),\n",
      "            ('mean', 'Second Tier Top Unversity'),\n",
      "            ('mean',  'Third Tier Top Unversity'),\n",
      "            ('mean',                       'All'),\n",
      "            ( 'max',  'First Tier Top Unversity'),\n",
      "            ( 'max',       'Other Top Unversity'),\n",
      "            ( 'max', 'Second Tier Top Unversity'),\n",
      "            ( 'max',  'Third Tier Top Unversity'),\n",
      "            ( 'max',                       'All')],\n",
      "           names=[None, 'Rank_Level'])\n"
     ]
    },
    {
     "name": "stderr",
     "output_type": "stream",
     "text": [
      "/var/folders/bw/_pgpsw6n67z55_fnwxmypghr0000gn/T/ipykernel_21722/2203962233.py:3: FutureWarning: The provided callable <function mean at 0x1109de7a0> is currently using DataFrameGroupBy.mean. In a future version of pandas, the provided callable will be used directly. To keep current behavior pass the string \"mean\" instead.\n",
      "  new_df = df.pivot_table(values='score', index='country', columns='Rank_Level', aggfunc=[np.mean, np.max],\n",
      "/var/folders/bw/_pgpsw6n67z55_fnwxmypghr0000gn/T/ipykernel_21722/2203962233.py:3: FutureWarning: The provided callable <function mean at 0x1109de7a0> is currently using DataFrameGroupBy.mean. In a future version of pandas, the provided callable will be used directly. To keep current behavior pass the string \"mean\" instead.\n",
      "  new_df = df.pivot_table(values='score', index='country', columns='Rank_Level', aggfunc=[np.mean, np.max],\n",
      "/var/folders/bw/_pgpsw6n67z55_fnwxmypghr0000gn/T/ipykernel_21722/2203962233.py:3: FutureWarning: The provided callable <function mean at 0x1109de7a0> is currently using DataFrameGroupBy.mean. In a future version of pandas, the provided callable will be used directly. To keep current behavior pass the string \"mean\" instead.\n",
      "  new_df = df.pivot_table(values='score', index='country', columns='Rank_Level', aggfunc=[np.mean, np.max],\n",
      "/var/folders/bw/_pgpsw6n67z55_fnwxmypghr0000gn/T/ipykernel_21722/2203962233.py:3: FutureWarning: The provided callable <function max at 0x1109ddda0> is currently using DataFrameGroupBy.max. In a future version of pandas, the provided callable will be used directly. To keep current behavior pass the string \"max\" instead.\n",
      "  new_df = df.pivot_table(values='score', index='country', columns='Rank_Level', aggfunc=[np.mean, np.max],\n",
      "/var/folders/bw/_pgpsw6n67z55_fnwxmypghr0000gn/T/ipykernel_21722/2203962233.py:3: FutureWarning: The provided callable <function max at 0x1109ddda0> is currently using DataFrameGroupBy.max. In a future version of pandas, the provided callable will be used directly. To keep current behavior pass the string \"max\" instead.\n",
      "  new_df = df.pivot_table(values='score', index='country', columns='Rank_Level', aggfunc=[np.mean, np.max],\n",
      "/var/folders/bw/_pgpsw6n67z55_fnwxmypghr0000gn/T/ipykernel_21722/2203962233.py:3: FutureWarning: The provided callable <function max at 0x1109ddda0> is currently using DataFrameGroupBy.max. In a future version of pandas, the provided callable will be used directly. To keep current behavior pass the string \"max\" instead.\n",
      "  new_df = df.pivot_table(values='score', index='country', columns='Rank_Level', aggfunc=[np.mean, np.max],\n"
     ]
    }
   ],
   "source": [
    "# una tabla pivot es simplemente un dataframe multinivel, podemos acceder a la series y celdas \n",
    "# del dataframe como lo hacemos normalmente\n",
    "new_df = df.pivot_table(values='score', index='country', columns='Rank_Level', aggfunc=[np.mean, np.max], \n",
    "               margins=True)\n",
    "\n",
    "print(new_df.index)\n",
    "print(new_df.columns)"
   ]
  },
  {
   "cell_type": "code",
   "execution_count": 30,
   "metadata": {},
   "outputs": [
    {
     "name": "stdout",
     "output_type": "stream",
     "text": [
      "country\n",
      "Argentina        NaN\n",
      "Australia    47.9425\n",
      "Austria          NaN\n",
      "Belgium      51.8750\n",
      "Brazil           NaN\n",
      "Name: First Tier Top Unversity, dtype: float64\n",
      "<class 'pandas.core.series.Series'>\n"
     ]
    }
   ],
   "source": [
    "print(new_df['mean']['First Tier Top Unversity'].head())\n",
    "print(type(new_df['mean']['First Tier Top Unversity']))"
   ]
  },
  {
   "cell_type": "code",
   "execution_count": 32,
   "metadata": {},
   "outputs": [
    {
     "data": {
      "text/plain": [
       "'United Kingdom'"
      ]
     },
     "execution_count": 32,
     "metadata": {},
     "output_type": "execute_result"
    }
   ],
   "source": [
    "# podemos buscar el pais (en este caso es el indice) con la media más alta en universidades \n",
    "# de tier 1\n",
    "new_df['mean']['First Tier Top Unversity'].idxmax()"
   ]
  },
  {
   "cell_type": "code",
   "execution_count": 38,
   "metadata": {},
   "outputs": [
    {
     "name": "stdout",
     "output_type": "stream",
     "text": [
      "country  Rank_Level                     \n",
      "All      First Tier Top Unversity   mean     58.350675\n",
      "                                    max     100.000000\n",
      "         Other Top Unversity        mean     44.738871\n",
      "                                    max      46.340000\n",
      "         Second Tier Top Unversity  mean     49.065450\n",
      "dtype: float64\n",
      "                                        mean     max\n",
      "country Rank_Level                                  \n",
      "All     First Tier Top Unversity   58.350675  100.00\n",
      "        Other Top Unversity        44.738871   46.34\n",
      "        Second Tier Top Unversity  49.065450   51.29\n",
      "        Third Tier Top Unversity   46.843450   47.93\n",
      "        All                        47.798395  100.00\n"
     ]
    }
   ],
   "source": [
    "# las funciones stack() y unstack() en Pandas se utilizan para transformar la estructura de los datos \n",
    "# en un DataFrame, reorganizando los niveles de índices y columnas. Aquí está la explicación de cada una:\n",
    "\n",
    "# stack() se utiliza para \"apilar\" los niveles de columnas de un DataFrame y convertirlos en niveles de índices, \n",
    "# lo que resulta en un DataFrame con un índice múltiple (MultiIndex).\n",
    "new_df=new_df.stack()\n",
    "print(new_df.head())\n",
    "\n",
    "# unstack() es el proceso inverso de stack(). Se utiliza para \"desapilar\" un nivel del índice y convertirlo en \n",
    "# niveles de columnas, lo que resulta en un DataFrame con columnas múltiples.\n",
    "new_df=new_df.unstack()\n",
    "print(new_df.head())"
   ]
  }
 ],
 "metadata": {
  "kernelspec": {
   "display_name": "Python 3",
   "language": "python",
   "name": "python3"
  },
  "language_info": {
   "codemirror_mode": {
    "name": "ipython",
    "version": 3
   },
   "file_extension": ".py",
   "mimetype": "text/x-python",
   "name": "python",
   "nbconvert_exporter": "python",
   "pygments_lexer": "ipython3",
   "version": "3.12.0"
  }
 },
 "nbformat": 4,
 "nbformat_minor": 2
}
