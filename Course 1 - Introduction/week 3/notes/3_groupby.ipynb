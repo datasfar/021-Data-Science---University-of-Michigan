{
 "cells": [
  {
   "cell_type": "markdown",
   "metadata": {},
   "source": [
    "#### Agrupación / GroupBy()\n",
    "\n",
    "La función groupby() de Pandas se utiliza para agrupar datos en un DataFrame según una o más columnas. Esto permite realizar operaciones agregadas, estadísticas y de análisis a nivel de grupo. Los principales usos de groupby() incluyen:\n",
    "\n",
    "    1- Agrupación de Datos: Permite dividir los datos en grupos basados en los valores de una o más columnas.\n",
    "    2- Aplicación de Funciones Agregadas: Después de agrupar los datos, se pueden aplicar funciones como sum(), mean(), count(), max(), min(), entre otras, para obtener resúmenes estadísticos de cada grupo.\n",
    "    3- Análisis de Datos: Facilita el análisis comparativo entre diferentes grupos, permitiendo entender las tendencias y patrones en los datos.\n",
    "    4- Manipulación de Datos: Permite transformar los datos dentro de cada grupo antes de combinarlos nuevamente en un DataFrame."
   ]
  },
  {
   "cell_type": "code",
   "execution_count": null,
   "metadata": {},
   "outputs": [],
   "source": [
    "import pandas as pd \n",
    "import numpy as np\n",
    "\n",
    "df = pd.read_csv(\"../datasets/census.csv\")\n",
    "df = df[df[\"SUMLEV\"] == 50]\n",
    "df.head()"
   ]
  },
  {
   "cell_type": "markdown",
   "metadata": {},
   "source": [
    "Vamos a realizar la misma operación utilizando dos sistemas diferentes, para ver cual es más óptimo y eficiente. Cuando lo ejecutemos podremos observar la diferencia abismal en tiempo de ejecución: Sin groupby(32s) con groupby (.2s)"
   ]
  },
  {
   "cell_type": "code",
   "execution_count": null,
   "metadata": {},
   "outputs": [],
   "source": [
    "%%timeit -n 3\n",
    "\n",
    "# ejemplo sin groupby()\n",
    "\n",
    "for state in df[\"STNAME\"].unique():\n",
    "    avg = np.average(df.where(df[\"STNAME\"]==state).dropna()[\"CENSUS2010POP\"])\n",
    "    print(\"Condados en el Estado \" + state + \" tienen una población media de \" + str(avg))"
   ]
  },
  {
   "cell_type": "code",
   "execution_count": null,
   "metadata": {},
   "outputs": [],
   "source": [
    "%%timeit -n 3\n",
    "\n",
    "# ejemplo con groupby()\n",
    "# groupby() devuelve una tupla donde el primer valor es valor de la clave por la que\n",
    "# estamos agrupando, en este caso el nombre de un estado, y el segundo valor es el dataframe\n",
    "# que se encontro para ese grupo\n",
    "\n",
    "for group, frame in df.groupby(\"STNAME\"):\n",
    "    avg = np.average(frame[\"CENSUS2010POP\"])\n",
    "    print(\"Condados en el Estado \" + group + \" tienen una población media de \" + str(avg))"
   ]
  },
  {
   "cell_type": "code",
   "execution_count": null,
   "metadata": {},
   "outputs": [],
   "source": [
    "# tambien podemos pasarle una función a groupby() y usarla para segmentar los datos\n",
    "# supongamos que tienes un gran trabajo por lotes con mucho procesamiento y quieres trabajar \n",
    "# solo con un tercio de los estados a la vez. Podríamos crear alguna función que devuelva un \n",
    "# número entre cero y dos basado en el primer carácter del nombre del estado. Luego, podemos \n",
    "# decirle a groupby que use esta función para dividir nuestro DataFrame. Es importante notar \n",
    "# que, para hacer esto, necesitas establecer el índice del DataFrame en la columna por la que \n",
    "# quieres agrupar primero.\n",
    "\n",
    "# crearemos una nueva función llamada set_batch_number y si la primera letra del parámetro es \n",
    "# una \"M\" mayúscula, devolveremos un 0. Si es una \"Q\" mayúscula, devolveremos un 1 y, de lo \n",
    "# contrario, devolveremos un 2. Luego, pasaremos\n",
    "\n",
    "df = df.set_index('STNAME')\n",
    "\n",
    "def set_batch_number(item):\n",
    "    if item[0]<'M':\n",
    "        return 0\n",
    "    if item[0]<'Q':\n",
    "        return 1\n",
    "    return 2\n",
    "\n",
    "for group, frame in df.groupby(set_batch_number):\n",
    "    print('Hay ' + str(len(frame)) + ' registros en el grupo ' + str(group) + ' para procesar.')\n",
    "\n",
    "# en caso de no pasarle una columna como identificador, groupby utilizara el índice"
   ]
  },
  {
   "cell_type": "code",
   "execution_count": null,
   "metadata": {},
   "outputs": [],
   "source": [
    "# vamos a cargar un conjunto de datos de AirBnB, el dataset incluye dos columnas cancellation_policy\n",
    "# y review_scores_value\n",
    "\n",
    "df=pd.read_csv(\"../datasets/listings.csv\")\n",
    "df.head()"
   ]
  },
  {
   "cell_type": "code",
   "execution_count": null,
   "metadata": {},
   "outputs": [],
   "source": [
    "# para usar groupby en esas dos columnas tenemos diferentes formas de hacerlo.\n",
    "# la primera sería utilizar un multi-index y llamar a groupby()\n",
    "\n",
    "df = df.set_index([\"cancellation_policy\", \"review_scores_value\"])\n",
    "df.head()\n",
    "\n",
    "# cuando tenemos un indice multinivel tenemos que pasarle los niveles por los que \n",
    "# queremos agrupar\n",
    "\n",
    "for group, frame in df.groupby(level=(0,1)):\n",
    "    print(group)"
   ]
  },
  {
   "cell_type": "code",
   "execution_count": null,
   "metadata": {},
   "outputs": [],
   "source": [
    "# si queremos agrupar por la política de cancelación y las puntuaciones de las reseñas, \n",
    "# pero separando todas las puntuaciones de 10 de las que están por debajo de 10, podemos \n",
    "# usar una función personalizada para gestionar estas agrupaciones.\n",
    "\n",
    "def grouping_fun(item):\n",
    "    if item[1] == 10:\n",
    "        return (item[0],\"10.0\")\n",
    "    else:\n",
    "        return (item[0], \"Not 10.0\")\n",
    "\n",
    "for group, frame in df.groupby(by=grouping_fun):\n",
    "    print(group)"
   ]
  },
  {
   "cell_type": "markdown",
   "metadata": {},
   "source": [
    "#### Agregación / agg()\n",
    "\n",
    "El método .agg() en Pandas se utiliza para aplicar una o más funciones de agregación a los grupos de un DataFrame. Es particularmente útil después de usar groupby() para realizar operaciones agregadas en columnas específicas de cada grupo. Aquí están algunas de las principales ventajas y usos de .agg():\n",
    "\n",
    "    1- Aplicar múltiples funciones: Puedes aplicar varias funciones de agregación a una o más columnas.\n",
    "    2- Definir funciones personalizadas: Puedes usar funciones predefinidas como sum, mean, max, etc., o definir tus propias funciones personalizadas.\n",
    "    3- Aplicar diferentes funciones a diferentes columnas: Puedes especificar diferentes funciones de agregación para diferentes columnas en el mismo comando."
   ]
  },
  {
   "cell_type": "code",
   "execution_count": null,
   "metadata": {},
   "outputs": [],
   "source": [
    "# para probar esto vamos a agrupar por politica de cancelación y encontrar el media de \n",
    "# las reviews con groupby\n",
    "\n",
    "df = df.reset_index()\n",
    "\n",
    "df.groupby(\"cancellation_policy\").agg({\"review_scores_value\":np.average})"
   ]
  },
  {
   "cell_type": "code",
   "execution_count": null,
   "metadata": {},
   "outputs": [],
   "source": [
    "# esto nos arrojará un error, dado que np.average no ignora los NaN, podemos solucionarlo\n",
    "# utilizando una función para eso\n",
    "# con np.nanmean excluimos los NaN\n",
    "df.groupby(\"cancellation_policy\").agg({\"review_scores_value\":np.nanmean})"
   ]
  },
  {
   "cell_type": "code",
   "execution_count": null,
   "metadata": {},
   "outputs": [],
   "source": [
    "# podemos extender el diccionario si queremos agregar mñas de una función o columnas\n",
    "df.groupby(\"cancellation_policy\").agg({\"review_scores_value\":(np.nanmean, np.nanstd),\n",
    "                                       \"reviews_per_month\":np.nanmean})\n",
    "\n",
    "# cuando utilizamos agg, le pasamos un diccionario: la clave sera la columna en la que\n",
    "# queremos aplicar la función y el valor, la función a aplicar. Podemos pasar más de una \n",
    "# función por columna"
   ]
  },
  {
   "cell_type": "markdown",
   "metadata": {},
   "source": [
    "#### Transformaciones / transform()\n",
    "El método transform() en Pandas se utiliza para aplicar una función a un grupo o una columna y devolver un objeto que tiene el mismo tamaño que el grupo o columna original. Esto es especialmente útil cuando necesitas transformar datos a nivel de grupo pero quieres mantener la estructura original del DataFrame.\n",
    "\n",
    "    1- Aplicar funciones de agregación y mantener el tamaño original: A diferencia de agg(), que devuelve un DataFrame reducido, transform() devuelve un objeto del mismo tamaño que los datos originales.\n",
    "    2- Aplicar transformaciones específicas: Permite aplicar funciones personalizadas que realizan transformaciones a cada elemento del grupo.\n",
    "    3- Operaciones dentro de grupos: Ideal para operaciones que necesitan comparar elementos dentro del mismo grupo, como estandarización o escalado."
   ]
  },
  {
   "cell_type": "code",
   "execution_count": null,
   "metadata": {},
   "outputs": [],
   "source": [
    "# primero vamos a definir las columnas en las que estamos interesados\n",
    "columnas = [\"cancellation_policy\", \"review_scores_value\"] \n",
    "\n",
    "# aplicamos transform y guardamos los resultados en su propio dataframe\n",
    "transform_df = df[columnas].groupby(\"cancellation_policy\").transform(np.nanmean)\n",
    "transform_df.head()"
   ]
  },
  {
   "cell_type": "code",
   "execution_count": null,
   "metadata": {},
   "outputs": [],
   "source": [
    "# se renombra la columna review_scores_value a mean_scores_values en el DataFrame transform_df. \n",
    "# La opción axis=\"columns\" especifica que se está renombrando una columna, y inplace=True indica \n",
    "# que el cambio se hará directamente en transform_df sin necesidad de crear una copia.\n",
    "\n",
    "transform_df.rename({\"review_scores_value\":\"mean_review_scores\"}, axis=\"columns\", inplace=True)\n",
    "\n",
    "# se combinan los dataframes (haciendo un merge) df con transform_df utilizando los índices de ambos\n",
    "# DataFrames como claves de combinación. Esto generalmente se hace cuando deseas añadir columnas de \n",
    "# transform_df a df basadas en sus índices.\n",
    "\n",
    "df=df.merge(transform_df, left_index=True, right_index=True)\n",
    "\n",
    "df['mean_review_scores'].head()"
   ]
  },
  {
   "cell_type": "code",
   "execution_count": null,
   "metadata": {},
   "outputs": [],
   "source": [
    "# np.abs() es una función de NumPy que calcula el valor absoluto de la diferencia entre \n",
    "# df['review_scores_value'] y df['mean_review_scores'].\n",
    "\n",
    "df['mean_diff']=np.abs(df['review_scores_value']-df['mean_review_scores'])\n",
    "df['mean_review_scores'].head()\n"
   ]
  },
  {
   "cell_type": "markdown",
   "metadata": {},
   "source": [
    "#### Filtrado / filter()\n",
    "El método .filter() en Pandas se utiliza para filtrar filas o columnas de un DataFrame según ciertos criterios. Puede funcionar de dos maneras principales:\n",
    "\n",
    "    1- Filtrado de columnas por nombre: Permite seleccionar un subconjunto de columnas en función de una lista de nombres.\n",
    "    2- Filtrado condicional basado en etiquetas: Permite filtrar las filas del DataFrame usando etiquetas de fila."
   ]
  },
  {
   "cell_type": "code",
   "execution_count": null,
   "metadata": {},
   "outputs": [],
   "source": [
    "df.groupby('cancellation_policy').filter(lambda x: np.nanmean(x['review_scores_value'])>9.2)\n",
    "\n",
    "# permite filtrar el DataFrame df para incluir solo aquellas filas donde la media de las puntuaciones\n",
    "# de revisión ('review_scores_value') dentro de cada grupo de política de cancelación ('cancellation_policy') \n",
    "# sea mayor que 9.2. Es útil para realizar análisis condicionales y seleccionar subconjuntos específicos de \n",
    "# datos basados en criterios de agregación dentro de grupos definidos."
   ]
  },
  {
   "cell_type": "markdown",
   "metadata": {},
   "source": [
    "#### Aplicación / apply()\n",
    "\n",
    "El método .apply() en Pandas se utiliza principalmente para aplicar una función a elementos de una serie o DataFrame a lo largo de un eje específico. Puede funcionar de varias maneras:\n",
    "\n",
    "    1- Aplicación de funciones a filas o columnas: Permite aplicar una función a cada fila o columna del DataFrame.\n",
    "    2- Aplicación de funciones a elementos individuales: Permite aplicar una función a cada elemento individual de una serie."
   ]
  },
  {
   "cell_type": "code",
   "execution_count": null,
   "metadata": {},
   "outputs": [],
   "source": [
    "df=pd.read_csv(\"datasets/listings.csv\")\n",
    "df=df[['cancellation_policy','review_scores_value']]\n",
    "df.head()"
   ]
  },
  {
   "cell_type": "code",
   "execution_count": null,
   "metadata": {},
   "outputs": [],
   "source": [
    "def calc_mean_review_scores(group):\n",
    "    avg=np.nanmean(group[\"review_scores_value\"])\n",
    "    group[\"review_scores_mean\"]=np.abs(avg-group[\"review_scores_value\"])\n",
    "    return group\n",
    "\n",
    "df.groupby('cancellation_policy').apply(calc_mean_review_scores).head()\n",
    "\n",
    "# el DataFrame df por la columna 'cancellation_policy', luego para cada grupo calcula la media \n",
    "# de los valores en \"review_scores_value\" y crea una nueva columna \"review_scores_mean\" que \n",
    "# contiene la diferencia absoluta entre cada valor y la media del grupo respectivo. Esto es útil \n",
    "# para analizar cómo difieren las puntuaciones individuales de los valores medios dentro de cada \n",
    "# categoría de política de cancelación."
   ]
  }
 ],
 "metadata": {
  "kernelspec": {
   "display_name": "Python 3",
   "language": "python",
   "name": "python3"
  },
  "language_info": {
   "codemirror_mode": {
    "name": "ipython",
    "version": 3
   },
   "file_extension": ".py",
   "mimetype": "text/x-python",
   "name": "python",
   "nbconvert_exporter": "python",
   "pygments_lexer": "ipython3",
   "version": "3.12.0"
  }
 },
 "nbformat": 4,
 "nbformat_minor": 2
}
