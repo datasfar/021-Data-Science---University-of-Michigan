{
 "cells": [
  {
   "cell_type": "markdown",
   "metadata": {},
   "source": [
    "#### Fusión de Dataframes"
   ]
  },
  {
   "cell_type": "code",
   "execution_count": null,
   "metadata": {},
   "outputs": [],
   "source": [
    "# merge() este método se usa para unir dos DataFrames utilizando columnas o índices comunes.\n",
    "\n",
    "# primer parámetro, es el dataframe a la izquierda\n",
    "# segundo parámetro, es el dataframe a la derecha\n",
    "\n",
    "# how=, el método merge() acepta el parámetro how= que indica el tipo de unión que se va a realizar\n",
    "    # Inner: Devuelve solo las filas donde hay coincidencias en ambos DataFrames.\n",
    "    # Left: Devuelve todas las filas del DataFrame de la izquierda y las filas coincidentes del DataFrame de la derecha.\n",
    "    # Right: Devuelve todas las filas del DataFrame de la derecha y las filas coincidentes del DataFrame de la izquierda.\n",
    "    # Outer: Devuelve todas las filas cuando hay una coincidencia en uno de los DataFrames.\n",
    "\n",
    "# on=, indica la columna o indice en el que se basa la unión\n",
    "\n",
    "# left_on= y right_on=, indica las columnas específicas de cada DataFrame en las que se basa la unión.\n",
    "\n",
    "# left_index y right_index: Si se deben usar los índices en lugar de las columnas para la unión.\n",
    "\n",
    "import pandas as pd\n",
    "\n",
    "estudiantes = pd.DataFrame([{\"Nombre\":\"Alicia\", \"Estudios\":\"Física\"},\n",
    "                            {\"Nombre\":\"Carolina\", \"Estudios\":\"Psicología\"},\n",
    "                            {\"Nombre\":\"Marcos\", \"Estudios\":\"Matemáticas\"}])\n",
    "\n",
    "estudiantes =  estudiantes.set_index(\"Nombre\")\n",
    "print(estudiantes.head())\n",
    "\n",
    "empleados = pd.DataFrame([{\"Nombre\":\"Alicia\", \"Cargo\":\"Evaluadora\"},\n",
    "                            {\"Nombre\":\"Marta\", \"Cargo\":\"RRHH\"},\n",
    "                            {\"Nombre\":\"Marcos\", \"Cargo\":\"Gestor\"}])\n",
    "\n",
    "empleados = empleados.set_index(\"Nombre\")\n",
    "print(estudiantes.head())\n",
    "\n",
    "pd.merge(estudiantes, empleados, how=\"outer\", left_index=True, right_index=True)"
   ]
  },
  {
   "cell_type": "code",
   "execution_count": null,
   "metadata": {},
   "outputs": [],
   "source": [
    "# cuando unimos dos dataframe nos devuelven una lista con todos los registros, en el ejemplo \n",
    "# anterior, como Marta no estaba en ningunos estudios y Carolina no tenia ningun cargo estos valores\n",
    "# se representan como NaN\n",
    "\n",
    "# si queremos obtener la intersección de los dos dataframes utilizamos how=\"inner\" para obtener los \n",
    "# registros que tengan tanto cargo como estudios\n",
    "pd.merge(estudiantes, empleados, how=\"inner\", left_index=True, right_index=True)"
   ]
  },
  {
   "cell_type": "code",
   "execution_count": null,
   "metadata": {},
   "outputs": [],
   "source": [
    "# otro ejemplo de uso sería si queremos obtener una lista de todos los estudiantes, tenga cargo o no\n",
    "# pero en caso de que tengan cargo también queremos que nos devuelva los detalles de sus estudios\n",
    "# para esto utilizamos how=\"left\"\n",
    "pd.merge(estudiantes, empleados, how=\"left\", left_index=True, right_index=True)"
   ]
  },
  {
   "cell_type": "code",
   "execution_count": null,
   "metadata": {},
   "outputs": [],
   "source": [
    "# de igual forma, con how=\"right\" obtendremos todos los empleados y sus detalles de estudios \n",
    "# en caso de que los tubieran\n",
    "pd.merge(estudiantes, empleados, how=\"right\", left_index=True, right_index=True)"
   ]
  },
  {
   "cell_type": "code",
   "execution_count": null,
   "metadata": {},
   "outputs": [],
   "source": [
    "# no es necesario usar indices para hacer las uniones, con on= podemos asignar una columna que\n",
    "# esté en los dos dataframes para realizar la unión sobre ella\n",
    "\n",
    "# reseteamos los indices para que no sea Nombres\n",
    "estudiantes.reset_index()\n",
    "empleados.reset_index()\n",
    "\n",
    "pd.merge(estudiantes, empleados, how=\"right\", on=\"Nombre\")"
   ]
  },
  {
   "cell_type": "code",
   "execution_count": null,
   "metadata": {},
   "outputs": [],
   "source": [
    "# La función merge preserva esta información, pero agrega un _x o _y para ayudar a diferenciar entre cuál\n",
    "# índice correspondía a qué columna de datos. El _x siempre es la información del DataFrame de la izquierda, \n",
    "# y el _y es siempre la información del DataFrame de la derecha.\n",
    "\n",
    "estudiantes = pd.DataFrame([{\"Nombre\":\"Alicia\", \"Estudios\":\"Física\", \"Ubicacion\":\"Edificio 2\"},\n",
    "                            {\"Nombre\":\"Carolina\", \"Estudios\":\"Psicología\", \"Ubicacion\":\"Edificio 1\"},\n",
    "                            {\"Nombre\":\"Marcos\", \"Estudios\":\"Matemáticas\", \"Ubicacion\":\"Edificio 3\"}])\n",
    "\n",
    "empleados = pd.DataFrame([{\"Nombre\":\"Alicia\", \"Cargo\":\"Evaluadora\", \"Ubicacion\":\"Edificio 213\"},\n",
    "                            {\"Nombre\":\"Marta\", \"Cargo\":\"RRHH\", \"Ubicacion\":\"Edificio 212\"},\n",
    "                            {\"Nombre\":\"Marcos\", \"Cargo\":\"Gestor\", \"Ubicacion\":\"Edificio 121\"}])\n",
    "\n",
    "pd.merge(estudiantes, empleados, how=\"left\", on=\"Nombre\")"
   ]
  },
  {
   "cell_type": "code",
   "execution_count": null,
   "metadata": {},
   "outputs": [],
   "source": [
    "# concat(): este método se usa para concatenar DataFrames a lo largo de un eje (filas o columnas).\n",
    "# mientras que con merge() uniamos los dataframes un al lado de otro con con concat() los apilamos\n",
    "\n",
    "    # axis: Especifica el eje a lo largo del cual se concatenan los DataFrames. 0 para filas \n",
    "    # (predeterminado), 1 para columnas.\n",
    "    # keys: Crea un índice jerárquico utilizando las claves proporcionadas.\n",
    "    # join: Especifica cómo se deben unir los DataFrames. Puede ser 'inner' o 'outer'.\n",
    "\n",
    "df1 = pd.DataFrame({'A': ['A0', 'A1', 'A2'], 'B': ['B0', 'B1', 'B2']})\n",
    "df2 = pd.DataFrame({'A': ['A3', 'A4', 'A5'], 'B': ['B3', 'B4', 'B5']})\n",
    "\n",
    "print(df1)\n",
    "print(df2)"
   ]
  },
  {
   "cell_type": "code",
   "execution_count": null,
   "metadata": {},
   "outputs": [],
   "source": [
    "# concatenar a lo largo de las filas (axis=0)\n",
    "pd.concat([df1, df2], axis=0)"
   ]
  },
  {
   "cell_type": "code",
   "execution_count": null,
   "metadata": {},
   "outputs": [],
   "source": [
    "# concatenar a lo largo de las columnas (axis=1)\n",
    "pd.concat([df1, df2], axis=1)"
   ]
  },
  {
   "cell_type": "code",
   "execution_count": null,
   "metadata": {},
   "outputs": [],
   "source": [
    "# concatenar con índice jerarquico usando keys=\n",
    "pd.concat([df1, df2], keys=['x', 'y'])"
   ]
  },
  {
   "cell_type": "code",
   "execution_count": null,
   "metadata": {},
   "outputs": [],
   "source": [
    "# concatenación con múltiple índice jerárquico\n",
    "pd.concat([df1, df2], keys=['batch1', 'batch2'], names=['Batch', 'Row ID'])"
   ]
  }
 ],
 "metadata": {
  "kernelspec": {
   "display_name": "Python 3",
   "language": "python",
   "name": "python3"
  },
  "language_info": {
   "codemirror_mode": {
    "name": "ipython",
    "version": 3
   },
   "file_extension": ".py",
   "mimetype": "text/x-python",
   "name": "python",
   "nbconvert_exporter": "python",
   "pygments_lexer": "ipython3",
   "version": "3.12.0"
  }
 },
 "nbformat": 4,
 "nbformat_minor": 2
}
