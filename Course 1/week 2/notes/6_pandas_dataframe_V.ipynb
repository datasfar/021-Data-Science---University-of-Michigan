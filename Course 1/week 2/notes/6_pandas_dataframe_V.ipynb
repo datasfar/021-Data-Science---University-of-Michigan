{
 "cells": [
  {
   "cell_type": "markdown",
   "metadata": {},
   "source": [
    "#### Valores faltantes\n",
    "Pandas maneja los valores faltantes usando el tipo None y los valores NaN de NumPy. Los valores faltantes son bastante comunes en las actividades de limpieza de datos.\n",
    "\n",
    "Por ejemplo, si estás realizando una encuesta y un encuestado no respondió una pregunta, el valor faltante es en realidad una omisión. Este tipo de datos faltantes se llama Missing at Random (MAR) (Faltante al Azar) si hay otras variables que podrían usarse para predecir la variable que falta. En mi trabajo, cuando realizo encuestas, a menudo encuentro que los datos faltantes, como el interés en participar en un estudio de seguimiento, a menudo tienen alguna correlación con otro campo de datos, como el género o la etnia. Si no hay relación con otras variables, entonces llamamos a estos datos Missing Completely at Random (MCAR) (Faltante Completamente al Azar)."
   ]
  },
  {
   "cell_type": "code",
   "execution_count": null,
   "metadata": {},
   "outputs": [],
   "source": []
  }
 ],
 "metadata": {
  "language_info": {
   "name": "python"
  }
 },
 "nbformat": 4,
 "nbformat_minor": 2
}
