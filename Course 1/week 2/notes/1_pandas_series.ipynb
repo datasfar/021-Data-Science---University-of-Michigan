{
 "cells": [
  {
   "cell_type": "markdown",
   "metadata": {},
   "source": [
    "#### Pandas Series\n",
    "Proporciona estructuras de datos fáciles de usar y herramientas de análisis de datos de alto rendimiento. Las dos estructuras de datos principales que ofrece son las series y los dataframes."
   ]
  },
  {
   "cell_type": "code",
   "execution_count": null,
   "metadata": {},
   "outputs": [],
   "source": [
    "import pandas as pd"
   ]
  },
  {
   "cell_type": "markdown",
   "metadata": {},
   "source": [
    "##### Series\n",
    "Son una estructura unidimensional que puede almacenar datos de cualquier tipo (enteros, cadenas, números flotantes, objetos de Python, etc.). Es similar a un array unidimensional pero con etiquetas en el eje.\n"
   ]
  },
  {
   "cell_type": "code",
   "execution_count": null,
   "metadata": {},
   "outputs": [],
   "source": [
    "# se crea una lista llamada estudiantes que contiene tres nombres como cadenas de texto.\n",
    "# el tipo de datos de la Serie (dtype) es string porque todos los elementos son cadenas de texto.\n",
    "estudiantes = [\"Pedro\", \"Alicia\", \"Marcos\"]\n",
    "print(pd.Series(estudiantes)) #dtype string\n",
    "\n",
    "# se define una lista llamada numeros que contiene tres enteros. El tipo de datos de la Serie \n",
    "# (dtype) es int64 porque todos los elementos son enteros.\n",
    "numeros = [1,2,3]\n",
    "print(pd.Series(numeros)) #dtype int64\n",
    "\n",
    "# se crea una lista llamada nuevos_estudiantes que contiene dos cadenas de texto y un valor None.\n",
    "# El tipo de datos de la Serie (dtype) es object porque contiene tanto cadenas de texto como un \n",
    "# valor None. En pandas, object es un tipo de datos general que se utiliza cuando la Serie contiene \n",
    "# datos heterogéneos.\n",
    "nuevos_estudiantes = [\"Jhon\", \"Josh\", None]\n",
    "print(pd.Series(nuevos_estudiantes)) #dtype object\n",
    "\n",
    "# cuando tenemos datos faltantes (None) pandas los transforma en NaN, que es representado como\n",
    "# un dato de tipo float, por lo que cambiara el type de la serie entera a float.                      \n",
    "nuevos_numeros = [1,2, None] # None pasa a ser NaN (Not a Number)\n",
    "print(pd.Series(nuevos_numeros)) # dtype float64 "
   ]
  },
  {
   "cell_type": "code",
   "execution_count": null,
   "metadata": {},
   "outputs": [],
   "source": [
    "# es importante destacar que aunque en ciencia de datos None y NaN se utilizan para representar \n",
    "# datos faltantes, ambos valores no son equivalentes\n",
    "\n",
    "import numpy as np\n",
    "\n",
    "print(np.nan == None)\n",
    "print(np.isnan(np.nan))"
   ]
  },
  {
   "cell_type": "code",
   "execution_count": null,
   "metadata": {},
   "outputs": [],
   "source": [
    "# cuando creas una Serie a partir de un diccionario, las claves del diccionario se convierten \n",
    "# automáticamente en los índices de la Serie.\n",
    "estudiantes = {\n",
    "    \"Alicia\":\"Geología\",\n",
    "    \"Martin\":\"Biología\",\n",
    "    \"Marc\":\"Informática\",\n",
    "    \"Paola\":\"Física\"\n",
    "}\n",
    "\n",
    "mi_serie = pd.Series(estudiantes)\n",
    "print(mi_serie)\n",
    "print(mi_serie.index)\n",
    "\n",
    "# tambien podemos acceder a los elementos usando sus indices\n",
    "print(mi_serie[\"Alicia\"])\n",
    "\n",
    "# y modificar los valores de la misma forma\n",
    "mi_serie[\"Alicia\"] = \"Matemáticas\"\n",
    "print(mi_serie[\"Alicia\"])\n",
    "\n",
    "# pandas también nos permite separar la creación del indice de los datos pasados\n",
    "mi_nueva_serie = pd.Series([\"Geología\", \"Matemáticas\", \"Física\"], index=[\"Alicia\", \"Marc\", \"Martin\"])\n",
    "print(mi_nueva_serie)\n",
    "\n",
    "# si creamos una serie a partir de una lista de tuplas los índices se crear \n",
    "# como números autoincrementados\n",
    "estudiantes = [(\"Alicia\", \"Swan\"), (\"Marc\", \"Hallen\"), (\"Martin\", \"Miller\")]\n",
    "print(pd.Series(estudiantes))"
   ]
  },
  {
   "cell_type": "code",
   "execution_count": null,
   "metadata": {},
   "outputs": [],
   "source": [
    "# ¿qué pasaría en caso de que al crear una serie los datos no esten alineados?\n",
    "# es decir, tenemos índices o valores que no se corresponden\n",
    "estudiantes = {\"Alicia\":\"Geología\",\n",
    "               \"Martin\":\"Biología\",\n",
    "               \"Marc\":\"Informática\",\n",
    "               \"Paola\":\"Física\"}\n",
    "\n",
    "serie = pd.Series(estudiantes, index=[\"Alicia\", \"Martin\", \"Jan\"])\n",
    "print(serie)\n",
    "\n",
    "# Jan no esta presente en estudiantes, pero ha sido pasado como índice por lo que aparecerá\n",
    "# en la serie con un valor asociado NaN, el dtype seguirá siendo object"
   ]
  },
  {
   "cell_type": "markdown",
   "metadata": {},
   "source": [
    "##### Realizar consultas a Series"
   ]
  },
  {
   "cell_type": "code",
   "execution_count": null,
   "metadata": {},
   "outputs": [],
   "source": [
    "# las series de pandas pueden ser accesibles tanto por las etiquetas del index\n",
    "# como por la posición de su índice. La posición y la etiqueta representan el \n",
    "# mismo valor. Para localizar una posición numérica utilizamos el método .iloc[]\n",
    "# para acceder por clave (key) podemos usar .loc[]\n",
    "estudiantes = {\"Alicia\":\"Geología\",\n",
    "               \"Martin\":\"Biología\",\n",
    "               \"Marc\":\"Informática\",\n",
    "               \"Paola\":\"Física\"}\n",
    "\n",
    "serie = pd.Series(estudiantes)\n",
    "print(serie.iloc[2]) # devuelve el valor por indice numérico\n",
    "print(serie.loc[\"Marc\"]) # devuelve el valor por clave\n",
    "print(serie.iloc[0:2]) # devuelve una serie con el segmento especificado [)\n",
    "\n",
    "# pandas nos permite hacerlo más intuitivo obviando el método \n",
    "print(serie[2]) # deprecated (se eliminará en futuras versiones de pandas)\n",
    "print(serie[\"Alicia\"])"
   ]
  },
  {
   "cell_type": "code",
   "execution_count": null,
   "metadata": {},
   "outputs": [],
   "source": [
    "# pandas nos permite realizar multitud de operaciones con las series\n",
    "notas = pd.Series([7, 8, 6, 9, 4])\n",
    "\n",
    "media = np.sum(notas) / len(notas) # podemos usar sum() y len() para obtener la media\n",
    "print(media)"
   ]
  },
  {
   "cell_type": "code",
   "execution_count": null,
   "metadata": {},
   "outputs": [],
   "source": [
    "# podemos unir dos series con append()\n",
    "notas_clase_a = pd.Series([7, 8, 6, 9, 4])\n",
    "notas_clase_b = pd.Series([2, 9, 0, 0, 7])\n",
    "\n",
    "notas_completas = np.append(notas_clase_a, notas_clase_b)\n",
    "print(notas_completas)"
   ]
  },
  {
   "cell_type": "markdown",
   "metadata": {},
   "source": [
    "##### Prueba de eficiencia"
   ]
  },
  {
   "cell_type": "code",
   "execution_count": null,
   "metadata": {},
   "outputs": [],
   "source": [
    "# ahora vamos a realizar una prueba de eficiencia para comparar el funcionamiento \n",
    "# normal, con la vectorización (cálculos realizados sobre series)\n",
    "\n",
    "# primero creamos una serie con 10.000 valores\n",
    "numeros = pd.Series(np.random.randint(0, 10000, 100000))\n",
    "print(len(numeros))"
   ]
  },
  {
   "cell_type": "code",
   "execution_count": null,
   "metadata": {},
   "outputs": [],
   "source": [
    "# %%timeit -> magic command que indica que se va a medir el tiempo de ejecución del código en la celda\n",
    "# -n 100 -> indica el número de veces que se debe ejecutar el bloque\n",
    "\n",
    "%%timeit -n 100 \n",
    "\n",
    "total = 0\n",
    "for numero in numeros:\n",
    "    total  += numero\n",
    "\n",
    "total/len(numeros) \n",
    "\n",
    "# Salida -> 18.3 ms ± 1.12 ms per loop (mean ± std. dev. of 7 runs, 100 loops each)"
   ]
  },
  {
   "cell_type": "code",
   "execution_count": null,
   "metadata": {},
   "outputs": [],
   "source": [
    "%%timeit -n 100\n",
    "total = np.sum(numeros)\n",
    "total/len(numeros)\n",
    "\n",
    "# Salida -> The slowest run took 9.29 times longer than the fastest. This could mean that an \n",
    "# intermediate result is being cached. 146 µs ± 178 µs per loop (mean ± std. dev. of 7 runs, 100 loops each)"
   ]
  },
  {
   "cell_type": "markdown",
   "metadata": {},
   "source": [
    "##### Propagación (Broadcasting)\n",
    "El broadcasting nos permite aplicar una operación a cada valor de una serie, modificando la serie."
   ]
  },
  {
   "cell_type": "code",
   "execution_count": null,
   "metadata": {},
   "outputs": [],
   "source": [
    "# por ejemplo podemos añadir 2 a cada número dentro de la serie\n",
    "print(numeros[0:5])\n",
    "numeros+=2\n",
    "print(numeros[0:5])"
   ]
  },
  {
   "cell_type": "code",
   "execution_count": null,
   "metadata": {},
   "outputs": [],
   "source": [
    "# tambien podemos iterar atraves de todos los items utilizando la función\n",
    "# .items() que devuelve la etiqueta y el valor y .at[] como selector\n",
    "\n",
    "for label, value in numeros.items():\n",
    "    numeros.at[label] = value + 2\n",
    "\n",
    "print(numeros[0:5])\n",
    "\n",
    "# como vimos anteriormente esta forma es mucho menos eficiente "
   ]
  },
  {
   "cell_type": "markdown",
   "metadata": {},
   "source": [
    "##### Índices con tipos mixtos"
   ]
  },
  {
   "cell_type": "code",
   "execution_count": null,
   "metadata": {},
   "outputs": [],
   "source": [
    "# pandas puede trabajar con diferentes tipos de datos para los índices de una misma\n",
    "# serie. Pandas cambiará automaticamente el tipo de dato de numpy que usa por debajo\n",
    "# al tipo de dato más apropiado\n",
    "serie = pd.Series([1,2,3])\n",
    "print(serie)\n",
    "\n",
    "serie.loc[3.9] = 100 # al no existir el valor, pandas crea el nuevo registro\n",
    "print(serie)"
   ]
  },
  {
   "cell_type": "markdown",
   "metadata": {},
   "source": [
    "##### Consideraciones\n",
    "    1.- Inmutabilidad de las Series Originales: muchos métodos en pandas que, por defecto, no modifican los objetos originales sino que devuelven nuevos objetos.\n",
    "\n",
    "    2.- Indices No Únicos: una característica interesante y poderosa de pandas es que permite índices no únicos"
   ]
  }
 ],
 "metadata": {
  "kernelspec": {
   "display_name": "Python 3",
   "language": "python",
   "name": "python3"
  },
  "language_info": {
   "codemirror_mode": {
    "name": "ipython",
    "version": 3
   },
   "file_extension": ".py",
   "mimetype": "text/x-python",
   "name": "python",
   "nbconvert_exporter": "python",
   "pygments_lexer": "ipython3",
   "version": "3.12.0"
  }
 },
 "nbformat": 4,
 "nbformat_minor": 2
}
