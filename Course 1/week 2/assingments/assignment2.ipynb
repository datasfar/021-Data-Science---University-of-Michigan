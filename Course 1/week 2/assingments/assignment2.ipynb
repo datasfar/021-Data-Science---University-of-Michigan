{
 "cells": [
  {
   "cell_type": "markdown",
   "metadata": {
    "deletable": false,
    "editable": false,
    "etc_identifier": "373a3605-5bda-4e1f-beef-04a0173d3f41",
    "nbgrader": {
     "cell_type": "markdown",
     "checksum": "ea942292eff37b50f364f842bcdd8ad9",
     "grade": false,
     "grade_id": "cell-a839e7b47494b4c3",
     "locked": true,
     "schema_version": 3,
     "solution": false
    }
   },
   "source": [
    "# Assignment 2\n",
    "\n",
    "For this assignment you'll be looking at 2017 data on immunizations from the CDC. Your datafile for this assignment is in [assets/NISPUF17.csv](assets/NISPUF17.csv). A data users guide for this, which you'll need to map the variables in the data to the questions being asked, is available at [assets/NIS-PUF17-DUG.pdf](assets/NIS-PUF17-DUG.pdf). **Note: you may have to go to your Jupyter tree (click on the Coursera image) and navigate to the assignment 2 assets folder to see this PDF file).**"
   ]
  },
  {
   "cell_type": "markdown",
   "metadata": {
    "deletable": false,
    "editable": false,
    "hideCode": false,
    "hidePrompt": false,
    "nbgrader": {
     "cell_type": "markdown",
     "checksum": "f85bd44672080d80abd2a7f47aa0f1be",
     "grade": false,
     "grade_id": "cell-58fc2e5938733f6a",
     "locked": true,
     "schema_version": 3,
     "solution": false
    }
   },
   "source": [
    "## Question 1\n",
    "Write a function called `proportion_of_education` which returns the proportion of children in the dataset who had a mother with the education levels equal to less than high school (<12), high school (12), more than high school but not a college graduate (>12) and college degree.\n",
    "\n",
    "*This function should return a dictionary in the form of (use the correct numbers, do not round numbers):* \n",
    "```\n",
    "    {\"less than high school\":0.2,\n",
    "    \"high school\":0.4,\n",
    "    \"more than high school but not college\":0.2,\n",
    "    \"college\":0.2}\n",
    "```"
   ]
  },
  {
   "cell_type": "code",
   "execution_count": null,
   "metadata": {
    "deletable": false,
    "nbgrader": {
     "cell_type": "code",
     "checksum": "0ac58deb3f5ac988c643e903cbee7f3a",
     "grade": false,
     "grade_id": "cell-eea16d020eb52ae7",
     "locked": false,
     "schema_version": 3,
     "solution": true
    }
   },
   "outputs": [],
   "source": [
    "def proportion_of_education():\n",
    "\n",
    "    import pandas as pd\n",
    "    dataframe = pd.read_csv(\"assets/NISPUF17.csv\")\n",
    "    registros = len(dataframe) \n",
    "    conteo = dataframe[\"EDUC1\"].value_counts()\n",
    "    dataframe_counts = pd.DataFrame(conteo)\n",
    "    dataframe_counts.columns = [\"count\"]\n",
    "    dataframe_counts[\"PERC\"] = dataframe_counts[\"count\"] / registros\n",
    "\n",
    "\n",
    "    proportion_of_education = {\n",
    "        \"less than high school\":dataframe_counts.loc[1][\"PERC\"],\n",
    "        \"high school\":dataframe_counts.loc[2][\"PERC\"],\n",
    "        \"more than high school but not college\":dataframe_counts.loc[3][\"PERC\"],\n",
    "        \"college\":dataframe_counts.loc[4][\"PERC\"]\n",
    "    }\n",
    "\n",
    "    return proportion_of_education\n",
    "    \n",
    "    raise NotImplementedError()\n"
   ]
  },
  {
   "cell_type": "code",
   "execution_count": null,
   "metadata": {},
   "outputs": [],
   "source": [
    "# Solucionando Ejercicio 1\n",
    "\n",
    "import pandas as pd\n",
    "dataframe = pd.read_csv(\"assets/NISPUF17.csv\")\n",
    "dataframe.head()\n",
    "\n",
    "# EDUC1 <- Mother level education variables\n",
    "# 1 -> <12 years\n",
    "# 2 -> 12 years\n",
    "# 3 -> >12 years, not a college graduate\n",
    "# 4 -> College graduate\n",
    "\n",
    "# averiguamos el nº de registros\n",
    "regitros = len(dataframe) \n",
    "print(\"Nº de registros: \", regitros)\n",
    "\n",
    "# contamos los valores\n",
    "conteo = dataframe[\"EDUC1\"].value_counts()\n",
    "print(\"Conteo de valores: \",conteo)\n",
    "\n",
    "# creamos un dataframe a partir del conteo\n",
    "dataframe = pd.DataFrame(conteo)\n",
    "\n",
    "# añadimos una columna que almacena el porcentaje de cada registro\n",
    "dataframe[\"PERC\"] = dataframe[\"count\"] / regitros\n",
    "print(dataframe)\n",
    "\n",
    "# el sumatorio da 1 = 100%\n",
    "print(\"Sumatorio PERC = 1: \", dataframe[\"PERC\"].sum())\n",
    "\n",
    "# generamos el diccionario \n",
    "proportion_of_education = {\n",
    "    \"less than high school\":dataframe.loc[4][\"PERC\"],\n",
    "    \"high school\":dataframe.loc[3][\"PERC\"],\n",
    "    \"more than high school but not college\":dataframe.loc[2][\"PERC\"],\n",
    "    \"college\":dataframe.loc[1][\"PERC\"]\n",
    "}\n",
    "\n",
    "print(proportion_of_education)\n"
   ]
  },
  {
   "cell_type": "code",
   "execution_count": null,
   "metadata": {
    "deletable": false,
    "editable": false,
    "hideCode": false,
    "hidePrompt": false,
    "nbgrader": {
     "cell_type": "code",
     "checksum": "ac5d91a24a7f72f66c25d242c3d24a50",
     "grade": true,
     "grade_id": "cell-c0eeef201366f51c",
     "locked": true,
     "points": 1,
     "schema_version": 3,
     "solution": false
    }
   },
   "outputs": [],
   "source": [
    "assert type(proportion_of_education())==type({}), \"You must return a dictionary.\"\n",
    "assert len(proportion_of_education()) == 4, \"You have not returned a dictionary with four items in it.\"\n",
    "assert \"less than high school\" in proportion_of_education().keys(), \"You have not returned a dictionary with the correct keys.\"\n",
    "assert \"high school\" in proportion_of_education().keys(), \"You have not returned a dictionary with the correct keys.\"\n",
    "assert \"more than high school but not college\" in proportion_of_education().keys(), \"You have not returned a dictionary with the correct keys.\"\n",
    "assert \"college\" in proportion_of_education().keys(), \"You have not returned a dictionary with the correct keys.\"\n"
   ]
  },
  {
   "cell_type": "markdown",
   "metadata": {
    "deletable": false,
    "editable": false,
    "nbgrader": {
     "cell_type": "markdown",
     "checksum": "562b78b7b9b79580269be0a3bebf4b42",
     "grade": false,
     "grade_id": "cell-8fcbb64516283f52",
     "locked": true,
     "schema_version": 3,
     "solution": false
    }
   },
   "source": [
    "## Question 2\n",
    "\n",
    "Let's explore the relationship between being fed breastmilk as a child and getting a seasonal influenza vaccine from a healthcare provider. Return a tuple of the average number of influenza vaccines for those children we know received breastmilk as a child and those who know did not.\n",
    "\n",
    "*This function should return a tuple in the form (use the correct numbers:*\n",
    "```\n",
    "(2.5, 0.1)\n",
    "```"
   ]
  },
  {
   "cell_type": "code",
   "execution_count": null,
   "metadata": {
    "deletable": false,
    "nbgrader": {
     "cell_type": "code",
     "checksum": "a405d639063c4a6408365479f29c95c9",
     "grade": false,
     "grade_id": "cell-77f18c512324eabb",
     "locked": false,
     "schema_version": 3,
     "solution": true
    }
   },
   "outputs": [],
   "source": [
    "def average_influenza_doses():\n",
    "    \n",
    "    import pandas as pd\n",
    "    dataframe = pd.read_csv(\"assets/NISPUF17.csv\")\n",
    "    \n",
    "    relacion = dataframe.loc[:, [\"CBF_01\", \"P_NUMFLU\"]]\n",
    "\n",
    "    relacion.dropna(inplace=True)\n",
    "\n",
    "    n_vacunas_lactantes = relacion.loc[relacion[\"CBF_01\"] == 1, 'P_NUMFLU'].values\n",
    "    promedio_vacunas_lactantes = n_vacunas_lactantes.sum() / len(n_vacunas_lactantes)\n",
    "\n",
    "    n_vacunas_no_lactantes = relacion.loc[relacion[\"CBF_01\"] == 2, 'P_NUMFLU'].values\n",
    "    promedio_vacunas_no_lactantes = n_vacunas_no_lactantes.sum() / len(n_vacunas_no_lactantes)\n",
    "\n",
    "    average_influenza_doses = (promedio_vacunas_lactantes, promedio_vacunas_no_lactantes)\n",
    "\n",
    "    return average_influenza_doses\n",
    "\n",
    "    raise NotImplementedError()\n"
   ]
  },
  {
   "cell_type": "code",
   "execution_count": null,
   "metadata": {},
   "outputs": [],
   "source": [
    "# Solucionando Ejercicio 2\n",
    "\n",
    "import pandas as pd\n",
    "dataframe = pd.read_csv(\"assets/NISPUF17.csv\")\n",
    "dataframe.head()\n",
    "\n",
    "# CBF_01 – child ever fed breast milk -> [1: yes, 2: no, 99: don't know, 77: misssing]\n",
    "# P_NUMFLU – total number of seasonal influenza doses\n",
    "\n",
    "# imprimimos los valores unicos de \"CBF_01\" y \"P_NUMFLU\"\n",
    "print(\"Valores unicos breast feed: \", dataframe[\"CBF_01\"].unique())\n",
    "print(\"Valores unicos nº vacunas influenza: \", dataframe[\"P_NUMFLU\"].unique())\n",
    "\n",
    "# creamos el nuevo dataframe con todas las filas y las columnas \"CBF_01\" y \"P_NUMFLU\"\n",
    "relacion = dataframe.loc[:, [\"CBF_01\", \"P_NUMFLU\"]]\n",
    "print(\"Dataframe sin limpiar: \", relacion.head(5))\n",
    "\n",
    "# eliminamos las filas con valores faltantes\n",
    "relacion.dropna(inplace=True)\n",
    "print(\"Dataframe limpio: \", relacion.head(15))\n",
    "\n",
    "# promedios \n",
    "n_vacunas_lactantes = relacion.loc[relacion[\"CBF_01\"] == 1, 'P_NUMFLU'].values\n",
    "promedio_vacunas_lactantes = n_vacunas_lactantes.sum() / len(n_vacunas_lactantes)\n",
    "print(\"Promedio vacunas lactantes: \", promedio_vacunas_lactantes)\n",
    "\n",
    "n_vacunas_no_lactantes = relacion.loc[relacion[\"CBF_01\"] == 2, 'P_NUMFLU'].values\n",
    "promedio_vacunas_no_lactantes = n_vacunas_no_lactantes.sum() / len(n_vacunas_no_lactantes)\n",
    "print(\"Promedio vacunas no lactantes: \", promedio_vacunas_no_lactantes)\n",
    "\n",
    "# formateo\n",
    "average_influenza_doses = (promedio_vacunas_lactantes, promedio_vacunas_no_lactantes)\n",
    "print(average_influenza_doses)"
   ]
  },
  {
   "cell_type": "code",
   "execution_count": null,
   "metadata": {
    "deletable": false,
    "editable": false,
    "nbgrader": {
     "cell_type": "code",
     "checksum": "19be955e97fdf7162d43fbb7c2c40951",
     "grade": true,
     "grade_id": "cell-54a3ba6cff31caa7",
     "locked": true,
     "points": 1,
     "schema_version": 3,
     "solution": false
    }
   },
   "outputs": [],
   "source": [
    "assert len(average_influenza_doses())==2, \"Return two values in a tuple, the first for yes and the second for no.\"\n"
   ]
  },
  {
   "cell_type": "markdown",
   "metadata": {
    "deletable": false,
    "editable": false,
    "nbgrader": {
     "cell_type": "markdown",
     "checksum": "e10e2163f5957a0c398ef4f0b76b4efe",
     "grade": false,
     "grade_id": "cell-f63377f3c97aa7c4",
     "locked": true,
     "schema_version": 3,
     "solution": false
    }
   },
   "source": [
    "## Question 3\n",
    "It would be interesting to see if there is any evidence of a link between vaccine effectiveness and sex of the child. Calculate the ratio of the number of children who contracted chickenpox but were vaccinated against it (at least one varicella dose) versus those who were vaccinated but did not contract chicken pox. Return results by sex. \n",
    "\n",
    "*This function should return a dictionary in the form of (use the correct numbers):* \n",
    "```\n",
    "    {\"male\":0.2,\n",
    "    \"female\":0.4}\n",
    "```\n",
    "\n",
    "Note: To aid in verification, the `chickenpox_by_sex()['female']` value the autograder is looking for starts with the digits `0.0077`."
   ]
  },
  {
   "cell_type": "code",
   "execution_count": null,
   "metadata": {
    "deletable": false,
    "nbgrader": {
     "cell_type": "code",
     "checksum": "b4d1b58acae002bc73eb0b19f95bc4af",
     "grade": false,
     "grade_id": "cell-a0a9e6fe67698006",
     "locked": false,
     "schema_version": 3,
     "solution": true
    }
   },
   "outputs": [],
   "source": [
    "def chickenpox_by_sex():\n",
    "    \n",
    "    import pandas as pd\n",
    "    dataframe = dataframe = pd.read_csv(\"assets/NISPUF17.csv\")\n",
    "    relacion = dataframe.loc[:, [\"SEX\", \"P_NUMVRC\", \"HAD_CPOX\"]]\n",
    "    relacion.dropna(inplace=True)\n",
    "\n",
    "    hombres_vacunados_con_varicela = relacion.loc[(relacion[\"SEX\"] == 1) & (relacion[\"HAD_CPOX\"] == 1) & (relacion[\"P_NUMVRC\"] >= 1)]\n",
    "    hombres_vacunados_sin_varicela = relacion.loc[(relacion[\"SEX\"] == 1) & (relacion[\"HAD_CPOX\"] == 2) & (relacion[\"P_NUMVRC\"] >= 1)]\n",
    "\n",
    "    mujeres_vacunadas_con_varicela = relacion.loc[(relacion[\"SEX\"] == 2) & (relacion[\"HAD_CPOX\"] == 1) & (relacion[\"P_NUMVRC\"] >= 1)]\n",
    "    mujeres_vacunadas_sin_varicela = relacion.loc[(relacion[\"SEX\"] == 2) & (relacion[\"HAD_CPOX\"] == 2) & (relacion[\"P_NUMVRC\"] >= 1)]\n",
    "\n",
    "    ratio_male = len(hombres_vacunados_con_varicela) / len(hombres_vacunados_sin_varicela)\n",
    "    ratio_female = len(mujeres_vacunadas_con_varicela) / len(mujeres_vacunadas_sin_varicela)\n",
    "\n",
    "    return {\"male\": ratio_male, \"female\": ratio_female} \n",
    "    raise NotImplementedError()"
   ]
  },
  {
   "cell_type": "code",
   "execution_count": 129,
   "metadata": {},
   "outputs": [
    {
     "name": "stdout",
     "output_type": "stream",
     "text": [
      "Valores nº de vacunas varicela:  [nan  1.  0.  2.  3.]\n",
      "Valores nº de enfermedad varicela:  [ 2  1 77 99]\n",
      "hombres_vacunados_con_varicela ->  68\n",
      "hombres_no_vacunados_con_varicela ->  29\n",
      "hombres_vacunados_sin_varicela ->  7028\n",
      "hombres_no_vacunados_sin_varicela ->  671\n",
      "mujeres_vacunadas_con_varicela ->  53\n",
      "mujeres_no_vacunados_con_varicela ->  23\n",
      "mujeres_vacunadas_sin_varicela ->  6802\n",
      "mujeres_no_vacunados_sin_varicela ->  612\n",
      "{'male': 0.009675583380762664, 'female': 0.0077918259335489565}\n"
     ]
    }
   ],
   "source": [
    "# Solucionando Ejercicio 3\n",
    "\n",
    "import pandas as pd\n",
    "dataframe = dataframe = pd.read_csv(\"assets/NISPUF17.csv\")\n",
    "\n",
    "# SEX -> (1:male, 2:female)\n",
    "# P_NUMVRC -> Nº OF VACCINES (nan, 0, 1, 2, 3)\n",
    "# HAD_CPOX (1:yes, 2:no, 77: don't know, 99: missing)\n",
    "\n",
    "dataframe.head()\n",
    "\n",
    "print(\"Valores nº de vacunas varicela: \", dataframe[\"P_NUMVRC\"].unique())\n",
    "print(\"Valores nº de enfermedad varicela: \", dataframe[\"HAD_CPOX\"].unique())\n",
    "\n",
    "relacion = dataframe.loc[:, [\"SEX\", \"P_NUMVRC\", \"HAD_CPOX\"]]\n",
    "relacion.dropna(inplace=True)\n",
    "\n",
    "\n",
    "\n",
    "\n",
    "# Sexo: hombre, Varicela: Si, Vacunas: Al menos 1\n",
    "hombres_vacunados_con_varicela = relacion.loc[(relacion[\"SEX\"] == 1) & (relacion[\"HAD_CPOX\"] == 1) & (relacion[\"P_NUMVRC\"] >= 1)]\n",
    "print(\"hombres_vacunados_con_varicela -> \", len(hombres_vacunados_con_varicela))\n",
    "\n",
    "# Sexo: hombre, Varicela: Si, Vacunas: ninguna\n",
    "hombres_no_vacunados_con_varicela = relacion.loc[(relacion[\"SEX\"] == 1) & (relacion[\"HAD_CPOX\"] == 1) & (relacion[\"P_NUMVRC\"] < 1)]\n",
    "print(\"hombres_no_vacunados_con_varicela -> \", len(hombres_no_vacunados_con_varicela))\n",
    "\n",
    "# Sexo: hombre, Varicela: No, Vacunas: Al menos 1\n",
    "hombres_vacunados_sin_varicela = relacion.loc[(relacion[\"SEX\"] == 1) & (relacion[\"HAD_CPOX\"] == 2) & (relacion[\"P_NUMVRC\"] >= 1)]\n",
    "print(\"hombres_vacunados_sin_varicela -> \", len(hombres_vacunados_sin_varicela))\n",
    "\n",
    "# Sexo: hombre, Varicela: NO, Vacunas: ninguna\n",
    "hombres_no_vacunados_sin_varicela = relacion.loc[(relacion[\"SEX\"] == 1) & (relacion[\"HAD_CPOX\"] == 2) & (relacion[\"P_NUMVRC\"] < 1)]\n",
    "print(\"hombres_no_vacunados_sin_varicela -> \", len(hombres_no_vacunados_sin_varicela))\n",
    "\n",
    "\n",
    "\n",
    "\n",
    "# Sexo: mujer, Varicela: Si, Vacunas: Al menos 1\n",
    "mujeres_vacunadas_con_varicela = relacion.loc[(relacion[\"SEX\"] == 2) & (relacion[\"HAD_CPOX\"] == 1) & (relacion[\"P_NUMVRC\"] >= 1)]\n",
    "print(\"mujeres_vacunadas_con_varicela -> \", len(mujeres_vacunadas_con_varicela))\n",
    "\n",
    "# Sexo: mujer, Varicela: Si, Vacunas: ninguna\n",
    "mujeres_no_vacunados_con_varicela = relacion.loc[(relacion[\"SEX\"] == 2) & (relacion[\"HAD_CPOX\"] == 1) & (relacion[\"P_NUMVRC\"] < 1)]\n",
    "print(\"mujeres_no_vacunados_con_varicela -> \", len(mujeres_no_vacunados_con_varicela))\n",
    "\n",
    "# Sexo: mujer, Varicela: No, Vacunas: Al menos 1\n",
    "mujeres_vacunadas_sin_varicela = relacion.loc[(relacion[\"SEX\"] == 2) & (relacion[\"HAD_CPOX\"] == 2) & (relacion[\"P_NUMVRC\"] >= 1)]\n",
    "print(\"mujeres_vacunadas_sin_varicela -> \", len(mujeres_vacunadas_sin_varicela))\n",
    "\n",
    "# Sexo: mujer, Varicela: No, Vacunas: ninguna\n",
    "mujeres_no_vacunados_sin_varicela = relacion.loc[(relacion[\"SEX\"] == 2) & (relacion[\"HAD_CPOX\"] == 2) & (relacion[\"P_NUMVRC\"] < 1)]\n",
    "print(\"mujeres_no_vacunados_sin_varicela -> \", len(mujeres_no_vacunados_sin_varicela))\n",
    "\n",
    "\n",
    "ratio_male = len(hombres_vacunados_con_varicela) / len(hombres_vacunados_sin_varicela)\n",
    "ratio_female = len(mujeres_vacunadas_con_varicela) / len(mujeres_vacunadas_sin_varicela)\n",
    "\n",
    "print({\"male\": ratio_male, \"female\": ratio_female})\n",
    "\n",
    "\"\"\"\n",
    "Interpretación de los resultados:\n",
    "\n",
    "- Para las mujeres (females):\n",
    "\n",
    "El ratio calculado es aproximadamente 0.0077. Esto significa que de cada 1,000 niñas vacunadas \n",
    "contra la varicela, aproximadamente 7.7 niñas contrajeron varicela a pesar de haber sido vacunadas.\n",
    "\n",
    "En otras palabras, la vacuna parece ser efectiva en una proporción alta, ya que la incidencia \n",
    "de varicela entre las niñas vacunadas es bastante baja en comparación con aquellas que no contrajeron \n",
    "la enfermedad.\n",
    "\n",
    "- Para los hombres (males):\n",
    "\n",
    "El ratio calculado es 0.0097. Esto indica que de cada 1,000 niños vacunados contra la varicela, \n",
    "aproximadamente 9.7 niños contrajeron varicela a pesar de haber sido vacunados.\n",
    "\n",
    "Similarmente, aunque ligeramente más alto que en las niñas, muestra una efectividad razonable de \n",
    "la vacuna en prevenir la varicela entre los niños vacunados.\n",
    "\"\"\""
   ]
  },
  {
   "cell_type": "code",
   "execution_count": null,
   "metadata": {
    "deletable": false,
    "editable": false,
    "nbgrader": {
     "cell_type": "code",
     "checksum": "1b6a113a633c55699ae478a3a9ee9c33",
     "grade": true,
     "grade_id": "cell-c4f1714db100c865",
     "locked": true,
     "points": 1,
     "schema_version": 3,
     "solution": false
    }
   },
   "outputs": [],
   "source": [
    "assert len(chickenpox_by_sex())==2, \"Return a dictionary with two items, the first for males and the second for females.\"\n"
   ]
  },
  {
   "cell_type": "markdown",
   "metadata": {},
   "source": [
    "## Question 4\n",
    "A correlation is a statistical relationship between two variables. If we wanted to know if vaccines work, we might look at the correlation between the use of the vaccine and whether it results in prevention of the infection or disease [1]. In this question, you are to see if there is a correlation between having had the chicken pox and the number of chickenpox vaccine doses given (varicella).\n",
    "\n",
    "Some notes on interpreting the answer. The `had_chickenpox_column` is either `1` (for yes) or `2` (for no), and the `num_chickenpox_vaccine_column` is the number of doses a child has been given of the varicella vaccine. A positive correlation (e.g., `corr > 0`) means that an increase in `had_chickenpox_column` (which means more no’s) would also increase the values of `num_chickenpox_vaccine_column` (which means more doses of vaccine). If there is a negative correlation (e.g., `corr < 0`), it indicates that having had chickenpox is related to an increase in the number of vaccine doses.\n",
    "\n",
    "Also, `pval` is the probability that we observe a correlation between `had_chickenpox_column` and `num_chickenpox_vaccine_column` which is greater than or equal to a particular value occurred by chance. A small `pval` means that the observed correlation is highly unlikely to occur by chance. In this case, `pval` should be very small (will end in `e-18` indicating a very small number).\n",
    "\n",
    "[1] This isn’t really the full picture, since we are not looking at when the dose was given. It’s possible that children had chickenpox and then their parents went to get them the vaccine. Does this dataset have the data we would need to investigate the timing of the dose?"
   ]
  },
  {
   "cell_type": "code",
   "execution_count": null,
   "metadata": {
    "deletable": false,
    "nbgrader": {
     "cell_type": "code",
     "checksum": "3e645859949447913cd11d30eb33cb1e",
     "grade": false,
     "grade_id": "cell-8afff07f564cf79a",
     "locked": false,
     "schema_version": 3,
     "solution": true
    }
   },
   "outputs": [],
   "source": [
    "def corr_chickenpox():\n",
    "    import scipy.stats as stats\n",
    "    import numpy as np\n",
    "    import pandas as pd\n",
    "\n",
    "    dataframe = dataframe = pd.read_csv(\"assets/NISPUF17.csv\")\n",
    "    relacion = dataframe.loc[:, [\"P_NUMVRC\", \"HAD_CPOX\"]]\n",
    "    relacion.dropna(inplace=True)\n",
    "    relacion = relacion[relacion['HAD_CPOX'] != 77]\n",
    "\n",
    "    corr, pval=stats.pearsonr(relacion[\"HAD_CPOX\"],relacion[\"P_NUMVRC\"])\n",
    "\n",
    "    return corr\n",
    "\n",
    "    raise NotImplementedError()"
   ]
  },
  {
   "cell_type": "code",
   "execution_count": 142,
   "metadata": {},
   "outputs": [
    {
     "name": "stdout",
     "output_type": "stream",
     "text": [
      "   P_NUMVRC  HAD_CPOX\n",
      "3       1.0         2\n",
      "4       0.0         2\n",
      "6       1.0         2\n",
      "7       0.0         2\n",
      "8       0.0         1\n",
      "CORRELACION:  0.07044873460148046\n",
      "Valores nº de vacunas varicela:  [1. 0. 2. 3.]\n",
      "Valores tubieron varicela:  [2 1]\n",
      "Enfermaron con 0 vacunas ->  52\n",
      "Enfermaron con 1 vacunas ->  117\n",
      "Enfermaron con 2 vacunas ->  4\n",
      "Enfermaron con 3 vacunas ->  0\n",
      "Sanos con 0 vacunas ->  1283\n",
      "Sanos con 1 vacunas ->  13620\n",
      "Sanos con 2 vacunas ->  209\n",
      "Sanos con 3 vacunas ->  1\n"
     ]
    }
   ],
   "source": [
    "# Solucionando Ejercicio 4\n",
    "\n",
    "import scipy.stats as stats\n",
    "import numpy as np\n",
    "import pandas as pd\n",
    "\n",
    "dataframe = dataframe = pd.read_csv(\"assets/NISPUF17.csv\")\n",
    "\n",
    "# P_NUMVRC -> Nº OF VACCINES (nan, 0, 1, 2, 3)\n",
    "# HAD_CPOX (1:yes, 2:no, 77: don't know, 99: missing)\n",
    "\n",
    "relacion = dataframe.loc[:, [\"P_NUMVRC\", \"HAD_CPOX\"]]\n",
    "\n",
    "# limpiamos los datos\n",
    "relacion.dropna(inplace=True)\n",
    "relacion = relacion[relacion['HAD_CPOX'] != 77]\n",
    "print(relacion.head())\n",
    "\n",
    "####################################################################################################\n",
    "\n",
    "\n",
    "corr, pval=stats.pearsonr(relacion[\"HAD_CPOX\"],relacion[\"P_NUMVRC\"])\n",
    "\n",
    "print(\"CORRELACION: \", corr)\n",
    "\n",
    "####################################################################################################\n",
    "\n",
    "print(\"Valores nº de vacunas varicela: \", relacion[\"P_NUMVRC\"].unique())\n",
    "print(\"Valores tubieron varicela: \", relacion[\"HAD_CPOX\"].unique())\n",
    "\n",
    "cero_vacuna_enfermos = len(relacion.loc[(relacion[\"P_NUMVRC\"] == 0) & (relacion[\"HAD_CPOX\"]==1)])\n",
    "una_vacuna_enfermos = len(relacion.loc[(relacion[\"P_NUMVRC\"] == 1) & (relacion[\"HAD_CPOX\"]==1)])\n",
    "dos_vacuna_enfermos = len(relacion.loc[(relacion[\"P_NUMVRC\"] == 2) & (relacion[\"HAD_CPOX\"]==1)])\n",
    "tres_vacuna_enfermos = len(relacion.loc[(relacion[\"P_NUMVRC\"] == 3) & (relacion[\"HAD_CPOX\"]==1)])\n",
    "\n",
    "print(\"Enfermaron con 0 vacunas -> \", cero_vacuna_enfermos)\n",
    "print(\"Enfermaron con 1 vacunas -> \", una_vacuna_enfermos)\n",
    "print(\"Enfermaron con 2 vacunas -> \", dos_vacuna_enfermos)\n",
    "print(\"Enfermaron con 3 vacunas -> \", tres_vacuna_enfermos)\n",
    "\n",
    "cero_vacuna_sanos = len(relacion.loc[(relacion[\"P_NUMVRC\"] == 0) & (relacion[\"HAD_CPOX\"]==2)])\n",
    "una_vacuna_sanos = len(relacion.loc[(relacion[\"P_NUMVRC\"] == 1) & (relacion[\"HAD_CPOX\"]==2)])\n",
    "dos_vacuna_sanos = len(relacion.loc[(relacion[\"P_NUMVRC\"] == 2) & (relacion[\"HAD_CPOX\"]==2)])\n",
    "tres_vacuna_sanos = len(relacion.loc[(relacion[\"P_NUMVRC\"] == 3) & (relacion[\"HAD_CPOX\"]==2)])\n",
    "\n",
    "print(\"Sanos con 0 vacunas -> \", cero_vacuna_sanos)\n",
    "print(\"Sanos con 1 vacunas -> \", una_vacuna_sanos)\n",
    "print(\"Sanos con 2 vacunas -> \", dos_vacuna_sanos)\n",
    "print(\"Sanos con 3 vacunas -> \", tres_vacuna_sanos)"
   ]
  },
  {
   "cell_type": "code",
   "execution_count": null,
   "metadata": {},
   "outputs": [],
   "source": [
    "# Solucionando Ejercicio 3 \"Mal aproach\" -> puede servir para el 4 \n",
    "\n",
    "import pandas as pd\n",
    "dataframe = dataframe = pd.read_csv(\"assets/NISPUF17.csv\")\n",
    "\n",
    "# SEX -> (1:male, 2:female)\n",
    "# P_NUMVRC -> Nº OF VACCINES (nan, 0, 1, 2, 3)\n",
    "# HAD_CPOX (1:yes, 2:no, 77: don't know, 99: missing)\n",
    "\n",
    "dataframe.head()\n",
    "\n",
    "print(\"Valores nº de vacunas varicela: \", dataframe[\"P_NUMVRC\"].unique())\n",
    "print(\"Valores nº de enfermedad varicela: \", dataframe[\"HAD_CPOX\"].unique())\n",
    "\n",
    "relacion = dataframe.loc[:, [\"SEX\", \"P_NUMVRC\", \"HAD_CPOX\"]]\n",
    "relacion.dropna(inplace=True)\n",
    "\n",
    "# Filtrar y calcular promedio de vacunas para hombres que han pasado la varicela\n",
    "n_vacunas_hombres_con_varicela = relacion.loc[(relacion[\"SEX\"] == 1) & (relacion[\"HAD_CPOX\"] == 1), 'P_NUMVRC'].values\n",
    "promedio_vacunas_hombres_con_varicela = n_vacunas_hombres_con_varicela.sum() / len(n_vacunas_hombres_con_varicela)\n",
    "print(\"Promedio vacunas hombres que han pasado la varicela: \", promedio_vacunas_hombres_con_varicela)\n",
    "\n",
    "# Filtrar y calcular promedio de vacunas para hombres NO que han pasado la varicela\n",
    "n_vacunas_hombres_sin_varicela = relacion.loc[(relacion[\"SEX\"] == 1) & (relacion[\"HAD_CPOX\"] == 2), 'P_NUMVRC'].values\n",
    "promedio_vacunas_hombres_sin_varicela = n_vacunas_hombres_sin_varicela.sum() / len(n_vacunas_hombres_sin_varicela)\n",
    "print(\"Promedio vacunas hombres que NO han pasado la varicela: \", promedio_vacunas_hombres_sin_varicela)\n",
    "\n",
    "# Filtrar y calcular promedio de vacunas para mujeres que han pasado la varicela\n",
    "n_vacunas_mujeres_con_varicela = relacion.loc[(relacion[\"SEX\"] == 2) & (relacion[\"HAD_CPOX\"] == 1), 'P_NUMVRC'].values\n",
    "promedio_vacunas_mujeres_con_varicela = n_vacunas_mujeres_con_varicela.sum() / len(n_vacunas_mujeres_con_varicela)\n",
    "print(\"Promedio vacunas mujeres que han pasado la varicela: \", promedio_vacunas_mujeres_con_varicela)\n",
    "\n",
    "# Filtrar y calcular promedio de vacunas para mujeres NO que han pasado la varicela\n",
    "n_vacunas_mujeres_sin_varicela = relacion.loc[(relacion[\"SEX\"] == 2) & (relacion[\"HAD_CPOX\"] == 2), 'P_NUMVRC'].values\n",
    "promedio_vacunas_mujeres_sin_varicela = n_vacunas_mujeres_sin_varicela.sum() / len(n_vacunas_mujeres_sin_varicela)\n",
    "print(\"Promedio vacunas mujeres que NO han pasado la varicela: \", promedio_vacunas_mujeres_sin_varicela)\n",
    "\n",
    "# Calcular Ratios\n",
    "ratio_hombres = promedio_vacunas_hombres_con_varicela / promedio_vacunas_hombres_sin_varicela\n",
    "ratio_mujeres = promedio_vacunas_mujeres_con_varicela / promedio_vacunas_mujeres_sin_varicela\n",
    "\n",
    "print(ratio_mujeres)"
   ]
  },
  {
   "cell_type": "code",
   "execution_count": null,
   "metadata": {
    "deletable": false,
    "editable": false,
    "nbgrader": {
     "cell_type": "code",
     "checksum": "ac50ccb747b99f6bbcc76da017e66528",
     "grade": true,
     "grade_id": "cell-73408733533a29a5",
     "locked": true,
     "points": 1,
     "schema_version": 3,
     "solution": false
    }
   },
   "outputs": [],
   "source": [
    "assert -1<=corr_chickenpox()<=1, \"You must return a float number between -1.0 and 1.0.\"\n"
   ]
  }
 ],
 "metadata": {
  "anaconda-cloud": {},
  "hide_code_all_hidden": false,
  "kernelspec": {
   "display_name": "Python 3",
   "language": "python",
   "name": "python3"
  },
  "language_info": {
   "codemirror_mode": {
    "name": "ipython",
    "version": 3
   },
   "file_extension": ".py",
   "mimetype": "text/x-python",
   "name": "python",
   "nbconvert_exporter": "python",
   "pygments_lexer": "ipython3",
   "version": "3.12.0"
  }
 },
 "nbformat": 4,
 "nbformat_minor": 4
}
