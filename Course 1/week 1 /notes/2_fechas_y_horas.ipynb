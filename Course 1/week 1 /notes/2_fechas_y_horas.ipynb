{
 "cells": [
  {
   "cell_type": "markdown",
   "metadata": {},
   "source": [
    "### "
   ]
  },
  {
   "cell_type": "markdown",
   "metadata": {},
   "source": [
    "### Fechas y horas\n",
    "Las fechas y horas se pueden almacenar de muchas formas diferentes. Uno de los formatos más utilizado esta basado en el desplazamiento de la época, es decir, almacena los segundos o milisengundos pasados desde 1/01/1970 hasta el momento del registro."
   ]
  },
  {
   "cell_type": "code",
   "execution_count": 1,
   "metadata": {},
   "outputs": [],
   "source": [
    "import datetime as dt\n",
    "import time as tm"
   ]
  },
  {
   "cell_type": "code",
   "execution_count": 4,
   "metadata": {},
   "outputs": [
    {
     "name": "stdout",
     "output_type": "stream",
     "text": [
      "1718697063.6473432\n",
      "2024-06-18 09:51:03.653595\n",
      "2024 6 18 9\n"
     ]
    }
   ],
   "source": [
    "print(tm.time()) # timestamp\n",
    "\n",
    "datetime_now =  dt.datetime.fromtimestamp(tm.time()) # formato legible\n",
    "print(datetime_now)\n",
    "\n",
    "# tambien podemos acceder a cada valor independientemente\n",
    "print(datetime_now.year, datetime_now.month, datetime_now.day, datetime_now.hour)"
   ]
  },
  {
   "cell_type": "code",
   "execution_count": 6,
   "metadata": {},
   "outputs": [
    {
     "name": "stdout",
     "output_type": "stream",
     "text": [
      "100 days, 0:00:00\n",
      "2024-03-10\n",
      "True\n"
     ]
    }
   ],
   "source": [
    "delta = dt.timedelta(days=100) # podemos crear intervalos de tiempo\n",
    "print(delta)\n",
    "\n",
    "hoy = dt.date.today() # y operar con ellos si tienen el mismo formato\n",
    "hace_100_dias = hoy - delta \n",
    "print(hace_100_dias)\n",
    "print(hoy > hace_100_dias)"
   ]
  }
 ],
 "metadata": {
  "kernelspec": {
   "display_name": "Python 3",
   "language": "python",
   "name": "python3"
  },
  "language_info": {
   "codemirror_mode": {
    "name": "ipython",
    "version": 3
   },
   "file_extension": ".py",
   "mimetype": "text/x-python",
   "name": "python",
   "nbconvert_exporter": "python",
   "pygments_lexer": "ipython3",
   "version": "3.11.0"
  }
 },
 "nbformat": 4,
 "nbformat_minor": 2
}
