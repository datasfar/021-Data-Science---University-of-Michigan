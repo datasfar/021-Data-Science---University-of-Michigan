{
 "cells": [
  {
   "cell_type": "markdown",
   "metadata": {},
   "source": [
    "### Numpy: Libreria numérica de Python\n",
    "Proporciona soporte para arrays y matrices de gran tamaño y multidimensionales, junto con una colección de funciones matemáticas para operar con estos arrays de manera eficiente. NumPy es esencialmente el estándar de facto para el manejo de datos numéricos en Python, y muchas otras bibliotecas científicas y de análisis de datos (como SciPy, Pandas y Matplotlib) están construidas sobre NumPy."
   ]
  },
  {
   "cell_type": "code",
   "execution_count": null,
   "metadata": {},
   "outputs": [],
   "source": [
    "import numpy as np\n",
    "import math"
   ]
  },
  {
   "cell_type": "markdown",
   "metadata": {},
   "source": [
    "#### Arrays multidemensionales\n",
    "NumPy introduce el objeto ndarray, que es una matriz N-dimensional con elementos homogéneos. Este objeto es mucho más eficiente en términos de memoria y velocidad que las listas de Python."
   ]
  },
  {
   "cell_type": "code",
   "execution_count": null,
   "metadata": {},
   "outputs": [],
   "source": [
    "# crear un array unidimensional\n",
    "arr1 = np.array([1, 2, 3, 4, 5])\n",
    "print(arr1)\n",
    "\n",
    "# crear un array bidimensional\n",
    "arr2 = np.array([[1, 2, 3], [4, 5, 6]])\n",
    "print(arr2)\n",
    "\n",
    "# crear un array lleno de ceros\n",
    "arr3 = np.zeros((2, 3))\n",
    "print(arr3)\n",
    "\n",
    "# crear un array con numeros aleatorios\n",
    "arr_random = np.random.rand(2, 3) # <- forma del array (2, 3)\n",
    "print(arr_random)\n",
    "\n",
    "# crear un array con un rango de numeros\n",
    "arr_rango = np.arange(10, 50, 1) # <- (inicio (incluido), fin (excluido), frecuencia (incremento))\n",
    "print(arr_rango)\n",
    "\n",
    "# crear un array con una secuencia de floats\n",
    "arr_sec = np.linspace(0, 2, 15) # 15 numeros, desde 0 (incluido) hasta el 2 (excluido)\n",
    "print(arr_sec)"
   ]
  },
  {
   "cell_type": "code",
   "execution_count": null,
   "metadata": {},
   "outputs": [],
   "source": [
    "# ndim -> ver las dimensiones de un array\n",
    "print(arr1.ndim)\n",
    "print(arr2.ndim)\n",
    "\n",
    "# shape -> ver la forma (longitud de cada dimension)\n",
    "print(arr1.shape)\n",
    "print(arr2.shape)\n",
    "\n",
    "# dtype -> ver tipo de datos de un ndarray\n",
    "print(arr1.dtype)\n",
    "print(arr_sec.dtype)"
   ]
  },
  {
   "cell_type": "markdown",
   "metadata": {},
   "source": [
    "#### Manipular ndarrays"
   ]
  },
  {
   "cell_type": "code",
   "execution_count": null,
   "metadata": {},
   "outputs": [],
   "source": [
    "# array con temperaturas x día en farenheit\n",
    "farenheit = np.array([0, -15, -5, -15, 0])\n",
    "\n",
    "# formula farenheit a celsius -> ((ºF - 32) * 5/9 = ºC)\n",
    "celsius = (farenheit - 32) * (5/9)\n",
    "print(celsius)\n",
    "\n",
    "# podemos convertirlo en un array que nos diga que días hará más de x grados\n",
    "buen_clima = celsius > - 20\n",
    "print(buen_clima)"
   ]
  },
  {
   "cell_type": "code",
   "execution_count": null,
   "metadata": {},
   "outputs": [],
   "source": [
    "# usando el mismo sistema podriamos ver que numeros en un array son pares\n",
    "array = np.arange(0, 21, 3)\n",
    "es_par = array %2 == 0\n",
    "print(array)\n",
    "print(es_par)"
   ]
  },
  {
   "cell_type": "markdown",
   "metadata": {},
   "source": [
    "Además de manipular los valores del array uno por uno, numpy tambien nos permite manipular las matices y realizar operaciones con ellas."
   ]
  },
  {
   "cell_type": "code",
   "execution_count": null,
   "metadata": {},
   "outputs": [],
   "source": [
    "a = np.array([[1,1],[0,1]])\n",
    "b = np.array([[2,0],[3,4]])\n",
    "\n",
    "# multiplicación elemento por elemento\n",
    "# (1 * 2) = 2\n",
    "# (1 * 0) = 0\n",
    "# (0 * 3) = 0\n",
    "# (1 * 4) = 4\n",
    "print(a*b)\n",
    "\n",
    "# multiplicación maticial \n",
    "# el elemento en la posición (0, 0) es 1*2 + 1*3 = 5\n",
    "# el elemento en la posición (0, 1) es 1*0 + 1*4 = 4\n",
    "# el elemento en la posición (1, 0) es 0*2 + 1*3 = 3\n",
    "# el elemento en la posición (1, 1) es 0*0 + 1*4 = 4\n",
    "print(a@b)\n"
   ]
  },
  {
   "cell_type": "markdown",
   "metadata": {},
   "source": [
    "NumPy tiene agregadas algunas funciones muy interesantes como: "
   ]
  },
  {
   "cell_type": "code",
   "execution_count": null,
   "metadata": {},
   "outputs": [],
   "source": [
    "array = np.array([-12, 2.3, -1, 2, 21, -4, 7, 23, 14, 51])\n",
    "\n",
    "# sum() -> sumatorio de los elementos de un array\n",
    "print(array.sum())\n",
    "\n",
    "# max() -> elemento más grande o máximo\n",
    "print(array.max())\n",
    "\n",
    "# min() -> elemento más pequeño o mínimo\n",
    "print(array.min())\n",
    "\n",
    "# mean() -> media de los elementos\n",
    "print(array.mean())"
   ]
  },
  {
   "cell_type": "code",
   "execution_count": null,
   "metadata": {},
   "outputs": [],
   "source": [
    "# en los arrays de ndimensiones podemos hacer lo mismo para filas o columnas\n",
    "array = np.arange(1, 16, 1).reshape(3,5)\n",
    "print(array)\n",
    "\n",
    "print(array.sum(axis=0)) # sumar columnas\n",
    "print(array.sum(axis=1)) # sumar filas\n",
    "\n",
    "print(array.max(axis=0)) # maximo columnas\n",
    "print(array.max(axis=1)) # maximo filas\n",
    "\n",
    "print(array.min(axis=0)) # minimo columnas\n",
    "print(array.min(axis=1)) # minimo filas\n",
    "\n",
    "print(array.mean(axis=0)) # media columnas\n",
    "print(array.mean(axis=1)) # media filas"
   ]
  },
  {
   "cell_type": "markdown",
   "metadata": {},
   "source": [
    "#### Acceder a elementos de un array por índice"
   ]
  },
  {
   "cell_type": "code",
   "execution_count": 40,
   "metadata": {},
   "outputs": [
    {
     "name": "stdout",
     "output_type": "stream",
     "text": [
      "Elemento en la posición (0, 1): 2\n",
      "Segunda fila completa: [4 5 6]\n",
      "Primera columna completa: [1 4 7]\n",
      "Slices de filas [0:2] y columnas [1:3]: [[2 3]\n",
      " [5 6]]\n",
      "Elementos seleccionados: [2 9]\n",
      "[[False False False]\n",
      " [False  True  True]\n",
      " [ True  True  True]]\n",
      "[5 6 7 8 9]\n"
     ]
    }
   ],
   "source": [
    "array = np.array([[1, 2, 3],\n",
    "                [4, 5, 6],\n",
    "                [7, 8, 9]])\n",
    "\n",
    "# acceder al elemento en la fila 0, columna 1 (segunda columna)\n",
    "elemento = array[0, 1]\n",
    "print(\"Elemento en la posición (0, 1):\", elemento) \n",
    "\n",
    "# acceder a la segunda (1) fila completa\n",
    "fila_completa = array[1, :]\n",
    "print(\"Segunda fila completa:\", fila_completa)  # Salida: [4 5 6]\n",
    "\n",
    "# acceder a la primera (0) columna completa\n",
    "columna_completa = array[:, 0]\n",
    "print(\"Primera columna completa:\", columna_completa)\n",
    "\n",
    "# acceder a filas y columnas a la vez\n",
    "array_dos = array[:2, 1:3] \n",
    "# [:2]: filas desde el inicio hasta antes del índice 2 (es decir, las filas 0 y 1).\n",
    "# [1:3]: columnas desde el índice 1 hasta antes del índice 3 (es decir, las columnas 1 y 2).\n",
    "print(\"Slices de filas [0:2] y columnas [1:3]:\", array_dos)\n",
    "\n",
    "# indexación por listas\n",
    "indices_filas = [0, 2]\n",
    "indices_columnas = [1, 2]\n",
    "elementos_seleccionados = array[indices_filas, indices_columnas]\n",
    "print(\"Elementos seleccionados:\", elementos_seleccionados) \n",
    "\n",
    "# indexación booleana elemento a elemento\n",
    "print(array>4) # develve un array (de True/False) con las misma forma \n",
    "print(array[array>4]) # devuelve los valores que cumplen la condición"
   ]
  }
 ],
 "metadata": {
  "kernelspec": {
   "display_name": "Python 3",
   "language": "python",
   "name": "python3"
  },
  "language_info": {
   "codemirror_mode": {
    "name": "ipython",
    "version": 3
   },
   "file_extension": ".py",
   "mimetype": "text/x-python",
   "name": "python",
   "nbconvert_exporter": "python",
   "pygments_lexer": "ipython3",
   "version": "3.12.0"
  }
 },
 "nbformat": 4,
 "nbformat_minor": 2
}
