{
 "cells": [
  {
   "cell_type": "markdown",
   "metadata": {},
   "source": [
    "### Documentos csv\n",
    "Leer y escribir documentos csv. El dataset utilizado contiene información de sobre coches."
   ]
  },
  {
   "cell_type": "code",
   "execution_count": null,
   "metadata": {},
   "outputs": [],
   "source": [
    "import csv \n",
    "\n",
    "# cargamos el documento\n",
    "with open(\"../datasets/mpg.csv\") as csvfile:\n",
    "    mpg =  list(csv.DictReader(csvfile))\n",
    "\n",
    "print(mpg[0]) # ejemplo de registro\n",
    "print(len(mpg)) # nº de registros\n",
    "print(mpg[0].keys()) # keys del registro"
   ]
  },
  {
   "cell_type": "markdown",
   "metadata": {},
   "source": [
    "### Obtener la media\n",
    "Supongamos que queremos saber el consumo medio de todos los coches en nuestro dataset. Se muestra en millas / galón (cosas de los americanos)."
   ]
  },
  {
   "cell_type": "code",
   "execution_count": null,
   "metadata": {},
   "outputs": [],
   "source": [
    "# [float(d['cty']) for d in mpg] itera sobre cada diccionario en la lista mpg, extrae el valor de 'cty' y lo convierte en float\n",
    "# sum() realiza un sumatorio de todos los valores anteriores\n",
    "# lo dividimos por len(mpg), nº de valores, para obtener la media\n",
    "\n",
    "consumo_medio = sum(float(d['cty']) for d in mpg) / len(mpg)\n",
    "print(consumo_medio)"
   ]
  },
  {
   "cell_type": "markdown",
   "metadata": {},
   "source": [
    "### Valores únicos \n",
    "Podemos crear sets con todos los valores de un registro para obtener valores unicos."
   ]
  },
  {
   "cell_type": "code",
   "execution_count": 8,
   "metadata": {},
   "outputs": [
    {
     "name": "stdout",
     "output_type": "stream",
     "text": [
      "{'4', '5', '6', '8'}\n"
     ]
    }
   ],
   "source": [
    "# así podemos ver las diferentes opciones de un registro concreto\n",
    "cilindros = set(d[\"cyl\"] for d in mpg)\n",
    "print(cilindros)"
   ]
  },
  {
   "cell_type": "markdown",
   "metadata": {},
   "source": [
    "### Crear conjuntos relacionados\n",
    "Ahora vamos a generar una nueva lista que contendra el número de cilindros y el consumo medio correspondiente."
   ]
  },
  {
   "cell_type": "code",
   "execution_count": 16,
   "metadata": {},
   "outputs": [
    {
     "name": "stdout",
     "output_type": "stream",
     "text": [
      "[('4', 21.012345679012345), ('5', 20.5), ('6', 16.21518987341772), ('8', 12.571428571428571)]\n"
     ]
    }
   ],
   "source": [
    "consumo_cilindros = []\n",
    "\n",
    "for c in cilindros: # iteramos sobre cilindros\n",
    "    summpg = 0\n",
    "    contador = 0\n",
    "\n",
    "    for d in mpg: # iteramos sobre todos los registros\n",
    "        if d[\"cyl\"] == c: # cuando el el cilindor en registro coincide con cilindros\n",
    "            summpg += float(d[\"cty\"]) # suma el consumo a una variable\n",
    "            contador += 1 # cuenta cuantas veces se suma\n",
    "    \n",
    "    consumo_cilindros.append((c, summpg / contador)) # se hace la media y se guarda el registro\n",
    "\n",
    "consumo_cilindros.sort(key=lambda x: x[0]) # se ordena con una función lambda\n",
    "print(consumo_cilindros)"
   ]
  }
 ],
 "metadata": {
  "kernelspec": {
   "display_name": "Python 3",
   "language": "python",
   "name": "python3"
  },
  "language_info": {
   "codemirror_mode": {
    "name": "ipython",
    "version": 3
   },
   "file_extension": ".py",
   "mimetype": "text/x-python",
   "name": "python",
   "nbconvert_exporter": "python",
   "pygments_lexer": "ipython3",
   "version": "3.11.0"
  }
 },
 "nbformat": 4,
 "nbformat_minor": 2
}
