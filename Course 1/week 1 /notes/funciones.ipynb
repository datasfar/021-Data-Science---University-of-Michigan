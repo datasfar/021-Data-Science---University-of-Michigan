{
 "cells": [
  {
   "cell_type": "markdown",
   "metadata": {},
   "source": [
    "## Funciones básicas en python "
   ]
  },
  {
   "cell_type": "code",
   "execution_count": null,
   "metadata": {},
   "outputs": [],
   "source": [
    "# Función básica con parametros\n",
    "def add_number(x, y):\n",
    "    return x + y\n",
    "\n",
    "add_number(1,2)"
   ]
  },
  {
   "cell_type": "code",
   "execution_count": null,
   "metadata": {},
   "outputs": [],
   "source": [
    "# Función con parámetros por defecto\n",
    "def calcutale(x, y, operation=\"plus\"):\n",
    "\n",
    "    if operation == \"plus\":\n",
    "        return x + y\n",
    "    elif operation == \"minus\":\n",
    "        return x - y\n",
    "    else:\n",
    "        return \"Operation unknown\"\n",
    "    \n",
    "print(calcutale(1, 2))\n",
    "print(calcutale(1, 2, \"minus\"))\n",
    "print(calcutale(1, 2, \"other operation\"))"
   ]
  },
  {
   "cell_type": "code",
   "execution_count": null,
   "metadata": {},
   "outputs": [],
   "source": [
    "# Función con parámetros opcionales\n",
    "def calcutale(x, y, operation=None):\n",
    "\n",
    "    if operation:\n",
    "        return x + y\n",
    "    else:\n",
    "        return \"Operation unknown\"\n",
    "\n",
    "print(calcutale(2, 3))\n",
    "print(calcutale(2, 3, \"yes\"))"
   ]
  },
  {
   "cell_type": "code",
   "execution_count": null,
   "metadata": {},
   "outputs": [],
   "source": [
    "# Función con tipado\n",
    "def operate(x:int, y:int, units:str) -> str:\n",
    "    return str(x + y) + \" \" + units\n",
    "\n",
    "# Función con tipado y f-string\n",
    "def operate_f(x:int, y:int, units:str) -> str:\n",
    "    return f\"{x + y} {units}\"\n",
    "\n",
    "print(operate(1, 2, \"kilograms\"))\n",
    "print(operate_f(1, 2, \"kilograms\"))"
   ]
  },
  {
   "cell_type": "markdown",
   "metadata": {},
   "source": [
    "### Map()\n",
    "Es una función incorporada que se utiliza para aplicar una función a cada ítem de una lista (o cualquier iterable) y devolver un mapa (un objeto que se puede convertir en una lista, tupla, etc.). Permite aplicar una operación a cada elemento de una colección sin tener que usar un bucle explícito."
   ]
  },
  {
   "cell_type": "code",
   "execution_count": null,
   "metadata": {},
   "outputs": [],
   "source": [
    "# ejemplo con una función definida\n",
    "def multiplicar_por_dos(x):\n",
    "    return x * 2\n",
    "\n",
    "m_list =  [1, 2, 3, 4, 5, 6]\n",
    "\n",
    "mapa = map(multiplicar_por_dos, m_list)\n",
    "print(list(mapa))"
   ]
  },
  {
   "cell_type": "code",
   "execution_count": null,
   "metadata": {},
   "outputs": [],
   "source": [
    "# ejemplo con función lambda\n",
    "numeros = [1, 2, 3, 4, 5]\n",
    "\n",
    "resultado = map(lambda x: x * 2, numeros)\n",
    "print(list(resultado))  "
   ]
  },
  {
   "cell_type": "code",
   "execution_count": null,
   "metadata": {},
   "outputs": [],
   "source": [
    "# ejemplo con funciones de python\n",
    "m_list =  [1, 2, 3, 4, 5, 6]\n",
    "m_list_dos = [0, 2, 1, 4, 0, 6]\n",
    "\n",
    "mapa_min = map(min, m_list, m_list_dos) # compara valores y devuelve el más pequeño\n",
    "print(list(mapa_min))"
   ]
  },
  {
   "cell_type": "markdown",
   "metadata": {},
   "source": [
    "### Funciones Lambda\n",
    "Las funciones lambda se definen en una sola línea y no tienen un nombre explícito, por lo que se les suele llamar \"funciones anónimas\".          \n",
    "\n",
    "Forma -> lambda argumentos: expresión"
   ]
  },
  {
   "cell_type": "code",
   "execution_count": null,
   "metadata": {},
   "outputs": [],
   "source": [
    "# ejemplo básico \n",
    "suma = lambda x, y: x + y\n",
    "print(suma(3, 5))"
   ]
  },
  {
   "cell_type": "markdown",
   "metadata": {},
   "source": [
    "Se utilizan principalmente donde se necesitan funciones de corta duración, por ejemplo, como argumentos a funciones de orden superior como map(), filter(), y sorted()."
   ]
  },
  {
   "cell_type": "code",
   "execution_count": null,
   "metadata": {},
   "outputs": [],
   "source": [
    "# ejemplo con map()\n",
    "numeros = [1, 2, 3, 4, 5]\n",
    "cuadrados = map(lambda x: x**2, numeros)\n",
    "print(list(cuadrados)) \n",
    "\n",
    "# ejemplo con filter()\n",
    "numeros = [1, 2, 3, 4, 5]\n",
    "pares = filter(lambda x: x % 2 == 0, numeros)\n",
    "print(list(pares))\n",
    "\n",
    "# ejemplo con sorted()\n",
    "puntos = [(1, 2), (3, 1), (5, -1), (2, 3)]\n",
    "puntos_ordenados = sorted(puntos, key=lambda punto: punto[1]) # ordenar los puntos por la segunda coordenada\n",
    "print(puntos_ordenados) "
   ]
  },
  {
   "cell_type": "markdown",
   "metadata": {},
   "source": [
    "### Compresión de listas (List comprehension)\n",
    "Es una sintaxis concisa para crear listas basadas en secuencias o iterables existentes. Utiliza una sola línea de código para realizar operaciones y filtrar elementos, ofreciendo una forma más compacta y legible de generar listas en comparación con el uso de bucles for tradicionales.\n",
    "\n",
    "Forma -> [nueva_expr for item in iterable]"
   ]
  },
  {
   "cell_type": "code",
   "execution_count": null,
   "metadata": {},
   "outputs": [],
   "source": [
    "# ejemplo sin list comprehension\n",
    "numeros = [1, 2, 3, 4, 5]\n",
    "cuadrados = []\n",
    "for n in numeros:\n",
    "    cuadrados.append(n ** 2)\n",
    "print(cuadrados)   "
   ]
  },
  {
   "cell_type": "code",
   "execution_count": null,
   "metadata": {},
   "outputs": [],
   "source": [
    "# ejemplo con list comprehension\n",
    "numeros = [1, 2, 3, 4, 5]\n",
    "cuadrados = [n ** 2 for n in numeros]\n",
    "print(cuadrados) \n",
    "\n",
    "# ejemplo de list compr. con condicional\n",
    "numeros = [1, 2, 3, 4, 5]\n",
    "dobles_pares = [n * 2 for n in numeros if n % 2 == 0]\n",
    "print(dobles_pares)  \n",
    "\n",
    "# ejemplo de list comp. con listas anidadas\n",
    "matriz = [[j for j in range(3)] for i in range(3)]\n",
    "print(matriz) "
   ]
  }
 ],
 "metadata": {
  "kernelspec": {
   "display_name": "Python 3",
   "language": "python",
   "name": "python3"
  },
  "language_info": {
   "codemirror_mode": {
    "name": "ipython",
    "version": 3
   },
   "file_extension": ".py",
   "mimetype": "text/x-python",
   "name": "python",
   "nbconvert_exporter": "python",
   "pygments_lexer": "ipython3",
   "version": "3.11.0"
  }
 },
 "nbformat": 4,
 "nbformat_minor": 2
}
