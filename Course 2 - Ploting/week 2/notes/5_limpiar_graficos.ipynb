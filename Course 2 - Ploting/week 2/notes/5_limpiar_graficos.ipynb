{
 "cells": [
  {
   "cell_type": "markdown",
   "metadata": {},
   "source": [
    "### Limpieza de gráficos \n",
    "Ahora vamos a aplicar los conocimientos de limpieza de graficos de la sesión anteriror."
   ]
  },
  {
   "cell_type": "code",
   "execution_count": null,
   "metadata": {},
   "outputs": [],
   "source": [
    "# partiremos de este gráfico\n",
    "import matplotlib.pyplot as plt\n",
    "import numpy as np\n",
    "\n",
    "languages = ['Python', 'SQL', 'Java', 'C++', 'JavaScript']\n",
    "pos = np.arange(len(languages))\n",
    "popularity = [56, 39, 34, 34, 29]\n",
    "\n",
    "plt.figure(figsize=(10, 8))\n",
    "plt.bar(pos, popularity, align='center')\n",
    "plt.xticks(pos, languages)\n",
    "plt.ylabel('% Popularity')\n",
    "plt.title('Top 5 Languages for Math & Data \\nby % Popularity on Stack Overflow')"
   ]
  },
  {
   "cell_type": "code",
   "execution_count": null,
   "metadata": {},
   "outputs": [],
   "source": [
    "import matplotlib.pyplot as plt\n",
    "import numpy as np\n",
    "\n",
    "languages = ['Python', 'SQL', 'Java', 'C++', 'JavaScript']\n",
    "pos = np.arange(len(languages))\n",
    "popularity = [56, 39, 34, 34, 29]\n",
    "\n",
    "plt.figure(figsize=(10, 8))\n",
    "plt.bar(pos, popularity, align='center')\n",
    "plt.xticks(pos, languages)\n",
    "plt.ylabel('% Popularity')\n",
    "plt.title('Top 5 Languages for Math & Data \\nby % Popularity on Stack Overflow')\n",
    "\n",
    "# eliminamos los marcos del gráfico\n",
    "for spine in plt.gca().spines.values():\n",
    "    spine.set_visible(False)"
   ]
  },
  {
   "cell_type": "code",
   "execution_count": null,
   "metadata": {},
   "outputs": [],
   "source": [
    "plt.figure(figsize=(10, 8));\n",
    "languages = ['Python', 'SQL', 'Java', 'C++', 'JavaScript']\n",
    "pos = np.arange(len(languages))\n",
    "popularity = [56, 39, 34, 34, 29]\n",
    "\n",
    "# cambiamos el color de las barras a gris\n",
    "bars = plt.bar(pos, popularity, align='center', linewidth=0, color='lightslategrey')\n",
    "# cambiamos el color a un azul menos brillante para Python [0] para generar contraste\n",
    "bars[0].set_color('#1F77B4')\n",
    "\n",
    "# aclaramos las etiquetas volviendolas grises\n",
    "plt.xticks(pos, languages, alpha=0.8)\n",
    "plt.title('Top 5 Languages for Math & Data \\nby % popularity on Stack Overflow', alpha=0.8)\n",
    "\n",
    "# eliminamos el marco del gráfico\n",
    "for spine in plt.gca().spines.values():\n",
    "    spine.set_visible(False)"
   ]
  },
  {
   "cell_type": "code",
   "execution_count": null,
   "metadata": {},
   "outputs": [],
   "source": [
    "plt.figure(figsize=(10, 8));\n",
    "languages = ['Python', 'SQL', 'Java', 'C++', 'JavaScript']\n",
    "pos = np.arange(len(languages))\n",
    "popularity = [56, 39, 34, 34, 29]\n",
    "\n",
    "bars = plt.bar(pos, popularity, align='center', linewidth=0, color='lightslategrey')\n",
    "bars[0].set_color('#1F77B4')\n",
    "\n",
    "plt.xticks(pos, languages, alpha=0.8)\n",
    "\n",
    "# eliminamos las marcas del eje y convirtiendolas en una lista vacia\n",
    "plt.yticks([])\n",
    "\n",
    "plt.title('Top 5 Languages for Math & Data \\nby % popularity on Stack Overflow', alpha=0.8)\n",
    "\n",
    "for spine in plt.gca().spines.values():\n",
    "    spine.set_visible(False)\n",
    "\n",
    "# Obtenemos la información para cada barra y la pintamos en la propia barra para mejor lectura\n",
    "for bar in bars:\n",
    "    height = bar.get_height()\n",
    "    plt.gca().text(bar.get_x() + bar.get_width() / 2, bar.get_height() - 5, str(int(height)) + '%',\n",
    "                   ha='center', color='w', fontsize=11)"
   ]
  }
 ],
 "metadata": {
  "kernelspec": {
   "display_name": "Python 3",
   "language": "python",
   "name": "python3"
  },
  "language_info": {
   "codemirror_mode": {
    "name": "ipython",
    "version": 3
   },
   "file_extension": ".py",
   "mimetype": "text/x-python",
   "name": "python",
   "nbconvert_exporter": "python",
   "pygments_lexer": "ipython3",
   "version": "3.12.0"
  }
 },
 "nbformat": 4,
 "nbformat_minor": 2
}
