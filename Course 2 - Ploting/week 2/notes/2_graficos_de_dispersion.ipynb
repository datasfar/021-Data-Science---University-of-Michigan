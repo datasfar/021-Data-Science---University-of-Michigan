{
 "cells": [
  {
   "cell_type": "markdown",
   "metadata": {},
   "source": [
    "### Graficos de dispersión (Scatter Plots)\n",
    "Los gráficos de dispersión (scatter plots) son una herramienta fundamental en la visualización de datos, utilizados para mostrar la relación entre dos variables continuas. En matplotlib, una popular biblioteca de visualización en Python, se pueden crear gráficos de dispersión utilizando la función scatter().\n",
    "\n",
    "#### Características de los gráficos de dispersión\n",
    "Ejes X e Y: Cada punto en el gráfico representa un par de valores de las variables X e Y.\n",
    "Distribución y Tendencias: Ayudan a identificar patrones, distribuciones y posibles correlaciones entre las dos variables.\n",
    "Outliers: Pueden resaltar valores atípicos o outliers que no siguen la tendencia general de los datos."
   ]
  },
  {
   "cell_type": "code",
   "execution_count": null,
   "metadata": {},
   "outputs": [],
   "source": [
    "import matplotlib.pyplot as plt\n",
    "\n",
    "# creamos los datos\n",
    "x = [1, 2, 3, 4, 5]\n",
    "y = [10, 15, 18, 20, 25]\n",
    "\n",
    "# creamos la figura\n",
    "plt.figure()\n",
    "\n",
    "# dibujamos el gráfico\n",
    "plt.scatter(x,y)"
   ]
  },
  {
   "cell_type": "code",
   "execution_count": null,
   "metadata": {},
   "outputs": [],
   "source": [
    "# podemos modificar el color del gráfico pasando un array de colores en el argumento \"c\"\n",
    "colors = ['green', 'green', 'green', 'green', 'red']\n",
    "\n",
    "plt.figure()\n",
    "\n",
    "# con \"s\" size, modificamos el tamaño de los puntos del gráfico\n",
    "plt.scatter(x, y, s=100, c=colors)"
   ]
  },
  {
   "cell_type": "code",
   "execution_count": null,
   "metadata": {},
   "outputs": [],
   "source": [
    "# con zip podemos convertir 2 listas en 1 tupla de valores pares, por ejemplo imaginemos que tenemos\n",
    "# 2 listas con valores, lista 1 equivale a las x y la 2 a las y\n",
    "zip_generator = zip([1,2,3,4,5], [6,7,8,9,10])\n",
    "print(list(zip_generator)) # la salida será: [(1, 6), (2, 7), (3, 8), (4, 9), (5, 10)]\n",
    "\n",
    "# utilizando el desempaquetador \"*\" obtendremos argumentos posicionales fuera de la tupla\n",
    "zip_generator = zip([1,2,3,4,5], [6,7,8,9,10])\n",
    "print(*zip_generator) # la salida desempaquetada será: (1, 6) (2, 7) (3, 8) (4, 9) (5, 10)"
   ]
  },
  {
   "cell_type": "code",
   "execution_count": null,
   "metadata": {},
   "outputs": [],
   "source": [
    "plt.figure()\n",
    "\n",
    "# también podemos setear colores a intervalos, el primero desde el inicio hasta el indice 2, no incluido y el \n",
    "# segundo con el resto de valores\n",
    "plt.scatter(x[:2], y[:2], s=100, c='red', label='students A')\n",
    "plt.scatter(x[2:], y[2:], s=100, c='blue', label='students B')"
   ]
  },
  {
   "cell_type": "code",
   "execution_count": null,
   "metadata": {},
   "outputs": [],
   "source": [
    "plt.figure()\n",
    "plt.scatter(x[:2], y[:2], s=100, c='red', label='Tall students')\n",
    "plt.scatter(x[2:], y[2:], s=100, c='blue', label='Short students')\n",
    "\n",
    "# podemos añadir etiquetas para que nuestro gráfico sea más comprensible\n",
    "plt.xlabel('The number of times the child kicked a ball')\n",
    "plt.ylabel('The grade of the student')\n",
    "\n",
    "# añadimos un título\n",
    "plt.title('Relationship between ball kicking and grades');"
   ]
  },
  {
   "cell_type": "code",
   "execution_count": null,
   "metadata": {},
   "outputs": [],
   "source": [
    "plt.figure()\n",
    "plt.scatter(x[:2], y[:2], s=100, c='red', label='Tall students')\n",
    "plt.scatter(x[2:], y[2:], s=100, c='blue', label='Short students');\n",
    "\n",
    "plt.xlabel('The number of times the child kicked a ball')\n",
    "plt.ylabel('The grade of the student')\n",
    "plt.title('Relationship between ball kicking and grades')\n",
    "\n",
    "# añadimos una leyenda que utiliza las etiquetas de los scatters\n",
    "plt.legend()"
   ]
  },
  {
   "cell_type": "code",
   "execution_count": null,
   "metadata": {},
   "outputs": [],
   "source": [
    "f=plt.figure()\n",
    "plt.scatter(x[:2], y[:2], s=100, c='red', label='Tall students')\n",
    "plt.scatter(x[2:], y[2:], s=100, c='blue', label='Short students')\n",
    "\n",
    "plt.xlabel('The number of times the child kicked a ball')\n",
    "plt.ylabel('The grade of the student')\n",
    "plt.title('Relationship between ball kicking and grades')\n",
    "\n",
    "# con loc=4 ponemos la leyenda en la parte inferior derecha del gráfico y con frameon=False quitamos el marco\n",
    "plt.legend(loc=4, frameon=False, title='Legend')"
   ]
  }
 ],
 "metadata": {
  "kernelspec": {
   "display_name": "Python 3",
   "language": "python",
   "name": "python3"
  },
  "language_info": {
   "codemirror_mode": {
    "name": "ipython",
    "version": 3
   },
   "file_extension": ".py",
   "mimetype": "text/x-python",
   "name": "python",
   "nbconvert_exporter": "python",
   "pygments_lexer": "ipython3",
   "version": "3.12.0"
  }
 },
 "nbformat": 4,
 "nbformat_minor": 2
}
