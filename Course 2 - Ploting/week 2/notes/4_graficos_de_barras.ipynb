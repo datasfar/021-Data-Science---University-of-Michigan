{
 "cells": [
  {
   "cell_type": "markdown",
   "metadata": {},
   "source": [
    "### Gráficos de barras\n",
    "Los gráficos de barras son una forma eficaz de visualizar datos categóricos, donde cada categoría se representa mediante una barra cuya altura corresponde al valor de la categoría. En matplotlib, los gráficos de barras se crean utilizando la función bar()."
   ]
  },
  {
   "cell_type": "code",
   "execution_count": null,
   "metadata": {},
   "outputs": [],
   "source": [
    "import matplotlib.pyplot as plt\n",
    "import numpy as np\n",
    "\n",
    "# creamos los datos\n",
    "linear_data = np.array([1,2,3,4,5,6,7,8])\n",
    "xvals = range(len(linear_data))\n",
    "\n",
    "# dibujamos el gráfico\n",
    "plt.bar(xvals, linear_data, width = 0.3)"
   ]
  },
  {
   "cell_type": "code",
   "execution_count": null,
   "metadata": {},
   "outputs": [],
   "source": [
    "# creamos datos exponenciales\n",
    "new_xvals = []\n",
    "exponential_data = linear_data**2\n",
    "\n",
    "# ajustamos el eje x\n",
    "for item in xvals:\n",
    "    new_xvals.append(item+0.3)\n",
    "\n",
    "# dibujamos los graficos de barras\n",
    "plt.bar(xvals, linear_data, width = 0.3)\n",
    "plt.bar(new_xvals, exponential_data, width = 0.3 ,color='red')"
   ]
  },
  {
   "cell_type": "markdown",
   "metadata": {},
   "source": [
    "Las etiquetas del eje x están muy a la izquierda de los elementos que describen y no están centradas. Ahora, podemos centrarlas con una barra dada, usando el parámetro align, pero es un poco frustrante cuando tienes que hacer múltiples barras y tienes que calcularlo tú mismo. Y es un problema agregar una nueva serie de datos manualmente. Y esto empeora, ya que tenemos que iterar manualmente y agregar fechas si las queremos. Porque de lo contrario no podríamos establecer la ubicación izquierda de la barra apropiadamente.\n",
    "\n",
    "Los gráficos de barras tienen algunas propiedades bastante interesante. Por ejemplo, puedes agregar barras de error a cada barra, usando el parámetro de error en y (y-error). Por ejemplo, cada una de nuestras piezas de datos en los datos lineales podría ser en realidad un valor medio, calculado a partir de muchas observaciones diferentes. Así que podríamos simplemente crear una lista de valores de error que queremos representar y mostrarlos."
   ]
  },
  {
   "cell_type": "code",
   "execution_count": null,
   "metadata": {},
   "outputs": [],
   "source": [
    "# importamos random para crear una función que genere números aleatorios y usaremos comprehension list\n",
    "# para generar una lista con los error\n",
    "from random import randint\n",
    "linear_err = [randint(1,4) for x in range(len(linear_data))] \n",
    "\n",
    "# esto dibujará una nuevo gráfico con el error de cada una. Mientras que las barras son una \n",
    "# representación de la media las barrar de error indican los valores máximos y mínimos\n",
    "plt.bar(xvals, linear_data, width = 0.3, yerr=linear_err)"
   ]
  },
  {
   "cell_type": "code",
   "execution_count": null,
   "metadata": {},
   "outputs": [],
   "source": [
    "# también podemos stackear gráficos de barras unos encima de otros con bottom= \"dato que va debajo\"\n",
    "xvals = range(len(linear_data))\n",
    "plt.bar(xvals, linear_data, width = 0.3, color='b')\n",
    "plt.bar(xvals, exponential_data, width = 0.3, bottom=linear_data, color='r')"
   ]
  },
  {
   "cell_type": "code",
   "execution_count": null,
   "metadata": {},
   "outputs": [],
   "source": [
    "# podemos girar el gráfico a horizontal y cambiar el parámetro width por height\n",
    "xvals = range(len(linear_data))\n",
    "plt.barh(xvals, linear_data, height = 0.3, color='b')\n",
    "plt.barh(xvals, exponential_data, height = 0.3, left=linear_data, color='r')"
   ]
  }
 ],
 "metadata": {
  "kernelspec": {
   "display_name": "Python 3",
   "language": "python",
   "name": "python3"
  },
  "language_info": {
   "codemirror_mode": {
    "name": "ipython",
    "version": 3
   },
   "file_extension": ".py",
   "mimetype": "text/x-python",
   "name": "python",
   "nbconvert_exporter": "python",
   "pygments_lexer": "ipython3",
   "version": "3.12.0"
  }
 },
 "nbformat": 4,
 "nbformat_minor": 2
}
