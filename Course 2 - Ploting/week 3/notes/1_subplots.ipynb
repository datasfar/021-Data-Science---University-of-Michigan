{
 "cells": [
  {
   "cell_type": "markdown",
   "metadata": {},
   "source": [
    "### Subplots\n",
    "Los subplots en matplotlib permiten mostrar varios gráficos en una sola figura. Esto es especialmente útil cuando se desea comparar diferentes conjuntos de datos o visualizar múltiples dimensiones de un mismo conjunto de datos de manera ordenada. Para crear subplots en matplotlib, se puede utilizar la función subplot() o el método subplots() del módulo pyplot."
   ]
  },
  {
   "cell_type": "code",
   "execution_count": null,
   "metadata": {},
   "outputs": [],
   "source": [
    "import matplotlib.pyplot as plt\n",
    "import numpy as np\n",
    "\n",
    "\n",
    "plt.figure()\n",
    "\n",
    "# La función subplot() toma tres argumentos:\n",
    "    # nrows: Número de filas en la cuadrícula de subplots.\n",
    "    # ncols: Número de columnas en la cuadrícula de subplots.\n",
    "    # index: Índice del subplot actual (empezando desde 1).\n",
    "\n",
    "# primer subplot\n",
    "plt.subplot(1, 2, 1)\n",
    "linear_data = np.array([1,2,3,4,5,6,7,8])\n",
    "plt.plot(linear_data, '-o')\n",
    "\n",
    "# segundo subplot\n",
    "plt.subplot(1, 2, 2)\n",
    "exponential_data = linear_data**2 \n",
    "plt.plot(exponential_data, '-o')"
   ]
  },
  {
   "cell_type": "code",
   "execution_count": null,
   "metadata": {},
   "outputs": [],
   "source": [
    "# ax1 es una referencia al objeto Axes del subplot creado. Esta referencia se usa para personalizar\n",
    "# y manipular este subplot más adelante\n",
    "ax1 = plt.subplot(1, 2, 1)\n",
    "plt.plot(linear_data, '-o')\n",
    "\n",
    "# con ax2 = plt.subplot(122, sharey=ax1) se está creando el segundo subplot en la misma figura. \n",
    "# 122 es una forma compacta de escribir 1, 2, 2, que significa que habrá 1 fila, 2 columnas, y \n",
    "# este subplot será el segundo (derecha). sharey=ax1 indica que este subplot (ax2) compartirá \n",
    "# el eje y con ax1. Esto asegura que ambos subplots tengan la misma escala vertical.\n",
    "ax2 = plt.subplot(122, sharey=ax1)\n",
    "plt.plot(exponential_data, '-x')"
   ]
  },
  {
   "cell_type": "markdown",
   "metadata": {},
   "source": [
    "Hay una función muy útil llamada subplots (nota el plural), que te permite obtener muchos objetos de ejes a la vez, y creo que esto es genial. Entonces, si quisiéramos obtener una cuadrícula de tres por tres con todos los rangos de ejes x e y bloqueados, podemos hacerlo así."
   ]
  },
  {
   "cell_type": "code",
   "execution_count": null,
   "metadata": {},
   "outputs": [],
   "source": [
    "# creamos un grid de 3 x 3 desempaquetando una tupla\n",
    "fig, ((ax1,ax2,ax3), (ax4,ax5,ax6), (ax7,ax8,ax9)) = plt.subplots(3, 3, sharex=True, sharey=True)\n",
    "\n",
    "# dibujamos linear data en el 5º\n",
    "ax5.plot(linear_data, '-')"
   ]
  },
  {
   "cell_type": "markdown",
   "metadata": {},
   "source": [
    "#### SPLOM\n",
    "Una técnica común de exploración visual en ciencia de datos se llama SPLOM, que significa matrices de diagramas de dispersión. Estos son particularmente útiles para obtener la relación entre varias variables de un vistazo rápido. Ahora, un SPLOM es en realidad similar a lo que Edward Tufte llamó un \"múltiple pequeño\": un conjunto de visuales que miran datos relacionados pero que dividen esos datos en diferentes visuales pequeños para que puedas ver tanto los árboles como el bosque a la vez."
   ]
  },
  {
   "cell_type": "code",
   "execution_count": null,
   "metadata": {},
   "outputs": [],
   "source": [
    "# primero capturemos una lista de las variables en las que estamos interesados\n",
    "import pandas as pd\n",
    "df = pd.read_csv(\"../../assets/iris.csv\")\n",
    "cols = ['SepalLength', 'SepalWidth', 'PetalLength', 'PetalWidth']"
   ]
  },
  {
   "cell_type": "code",
   "execution_count": null,
   "metadata": {},
   "outputs": [],
   "source": [
    "\n",
    "# ahora necesitamos crear una cuadrícula de subplots de tamaño igual al número de diferentes variables\n",
    "# que queremos explorar, en este caso es una cuadrícula de 4x4\n",
    "fig, axs = plt.subplots(len(cols), len(cols), figsize=(10, 10))\n",
    "\n",
    "# ahora queremos iterar a través de cada columna en nuestro dataframe y compararla con cada otra columna en nuestro\n",
    "# DataFrame. Haremos esto con un par de bucles for anidados\n",
    "for i in range(len(cols)):\n",
    "    for j in range(len(cols)):\n",
    "\n",
    "        # en cada iteración, se crea un diagrama de dispersión (scatter) comparando dos columnas (cols[j] y cols[i]).\n",
    "        # vamos graficar un diagrama de dispersión comparando las columnas i y j. A veces será la\n",
    "        # misma columna, así que esperaríamos ver una tendencia en línea diagonal.\n",
    "        axs[i, j].scatter(df[cols[j]], df[cols[i]], s=5)\n",
    "\n",
    "        # se desactivan las marcas y etiquetas de los ejes (get_xaxis().set_visible(False) y get_yaxis().set_visible(False)).\n",
    "        axs[i, j].get_xaxis().set_visible(False)\n",
    "        axs[i, j].get_yaxis().set_visible(False)\n",
    "\n",
    "        # las etiquetas del eje x se activan solo para los subplots en la última fila.\n",
    "        if i == len(cols) - 1:\n",
    "            axs[i, j].get_xaxis().set_visible(True)\n",
    "            axs[i, j].set_xlabel(cols[j])\n",
    "            \n",
    "        # las etiquetas del eje y se activan solo para los subplots en la primera columna. \n",
    "        if j == 0:\n",
    "            axs[i, j].get_yaxis().set_visible(True)\n",
    "            axs[i, j].set_ylabel(cols[i])\n",
    "\n",
    "# mostramos el grafico\n",
    "plt.show()"
   ]
  }
 ],
 "metadata": {
  "kernelspec": {
   "display_name": "Python 3",
   "language": "python",
   "name": "python3"
  },
  "language_info": {
   "codemirror_mode": {
    "name": "ipython",
    "version": 3
   },
   "file_extension": ".py",
   "mimetype": "text/x-python",
   "name": "python",
   "nbconvert_exporter": "python",
   "pygments_lexer": "ipython3",
   "version": "3.12.0"
  }
 },
 "nbformat": 4,
 "nbformat_minor": 2
}
